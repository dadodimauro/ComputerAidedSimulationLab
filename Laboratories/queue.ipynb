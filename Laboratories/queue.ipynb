{
 "cells": [
  {
   "cell_type": "code",
   "execution_count": 122,
   "metadata": {
    "pycharm": {
     "name": "#%%\n"
    }
   },
   "outputs": [],
   "source": [
    "import random\n",
    "import numpy as np\n",
    "import pandas as pd\n",
    "\n",
    "ARRIVAL = 0.95\n",
    "SERVICE = 1\n",
    "\n",
    "SIM_TIME = 20\n",
    "\n",
    "TYPE1 = 1\n",
    "TYPE2 = 2\n",
    "\n",
    "random.seed(42)"
   ]
  },
  {
   "cell_type": "code",
   "execution_count": 123,
   "metadata": {
    "pycharm": {
     "name": "#%%\n"
    }
   },
   "outputs": [],
   "source": [
    "u_Id = 0\n",
    "users = 0\n",
    "\n",
    "# Future Event Set\n",
    "FES = []\n",
    "queue = []\n",
    "\n",
    "# simulation time\n",
    "time = 0\n",
    "\n",
    "# event counter\n",
    "event = 0\n",
    "arrivals = 0\n",
    "departures = 0"
   ]
  },
  {
   "cell_type": "code",
   "execution_count": 124,
   "outputs": [],
   "source": [
    "columns = ['event', 'time', 'type',\n",
    "           'queue', 'arr cust', 'depar cust', \"in line\"]"
   ],
   "metadata": {
    "collapsed": false,
    "pycharm": {
     "name": "#%%\n"
    }
   }
  },
  {
   "cell_type": "code",
   "execution_count": 125,
   "metadata": {
    "pycharm": {
     "name": "#%%\n"
    }
   },
   "outputs": [],
   "source": [
    "# Client\n",
    "\n",
    "class Client:\n",
    "    def __init__(self, u_Id, type, arrival_time) -> None:\n",
    "        self.u_Id = u_Id\n",
    "        self.type = type\n",
    "        self.arrival_time = arrival_time\n",
    "\n",
    "    def getType(self):\n",
    "        return self.type\n",
    "\n",
    "    def getArrivalTime(self):\n",
    "        return self.arrival_time\n",
    "\n",
    "    def getId(self):\n",
    "        return self.u_Id"
   ]
  },
  {
   "cell_type": "code",
   "execution_count": 126,
   "metadata": {
    "pycharm": {
     "name": "#%%\n"
    }
   },
   "outputs": [],
   "source": [
    "def arrival(time, FES, queue):\n",
    "    global users\n",
    "    global u_Id\n",
    "    print(\"ARRIVAL at time: \\t{}\".format(time))\n",
    "    # sample time until next event\n",
    "    inter_arrival = random.expovariate(1.0/ARRIVAL)\n",
    "    #schedule next arrival\n",
    "    FES.append((time + inter_arrival, \"arrival\"))\n",
    "    # update state variables\n",
    "    users += 1\n",
    "    # create a record for the client\n",
    "    client = Client(u_Id, TYPE1, time)\n",
    "    u_Id += 1\n",
    "    print(\"new CLIENT created of type [{}] at time [{}]\".format(client.getType(), client.getArrivalTime()))\n",
    "    # insert record in the queue\n",
    "    queue.append(client)\n",
    "\n",
    "    # if server is idle start the service\n",
    "    if users == 1:\n",
    "        # sample the service time\n",
    "        service_time = random.expovariate(1.0/SERVICE)\n",
    "\n",
    "        # print(\"new DEPARTURE scheduled at time: {}\".format(time + service_time))\n",
    "\n",
    "        # schedule when the client will finish the server\n",
    "        FES.append((time + service_time, \"departure\"))"
   ]
  },
  {
   "cell_type": "code",
   "execution_count": 127,
   "metadata": {
    "pycharm": {
     "name": "#%%\n"
    }
   },
   "outputs": [],
   "source": [
    "def departure(time, FES, queue):\n",
    "    global users\n",
    "    # get the first element from the queue\n",
    "    client = queue.pop(0)\n",
    "    print(\"CLIENT {} of type [{}] created at time [{}] departed at time [{}]\".format(client.getId(), client.getType(), client.getArrivalTime(), time))\n",
    "    # update state variable\n",
    "    users -= 1\n",
    "\n",
    "    # see wheather there are more clients to serve in the line\n",
    "    if users > 0:\n",
    "        # sample service time\n",
    "        service_time = random.expovariate(1.0/SERVICE)\n",
    "        # schedule when the client will finish the server\n",
    "        FES.append((time + service_time, \"departure\"))"
   ]
  },
  {
   "cell_type": "code",
   "execution_count": 128,
   "metadata": {
    "pycharm": {
     "name": "#%%\n"
    }
   },
   "outputs": [
    {
     "name": "stdout",
     "output_type": "stream",
     "text": [
      "users in line: \t0\n",
      "ARRIVAL at time: \t0\n",
      "new CLIENT created of type [1] at time [0]\n",
      "\n",
      "users in line: \t1\n",
      "CLIENT 0 of type [1] created at time [0] departed at time [0.02532883904273889]\n",
      "\n",
      "users in line: \t0\n",
      "ARRIVAL at time: \t0.969057272911061\n",
      "new CLIENT created of type [1] at time [0.969057272911061]\n",
      "\n",
      "users in line: \t1\n",
      "CLIENT 1 of type [1] created at time [0.969057272911061] departed at time [1.2216434585811746]\n",
      "\n",
      "users in line: \t0\n",
      "ARRIVAL at time: \t1.2746001337822783\n",
      "new CLIENT created of type [1] at time [1.2746001337822783]\n",
      "\n",
      "users in line: \t1\n",
      "CLIENT 2 of type [1] created at time [1.2746001337822783] departed at time [2.403773142580871]\n",
      "\n",
      "users in line: \t0\n",
      "ARRIVAL at time: \t2.541513172949957\n",
      "new CLIENT created of type [1] at time [2.541513172949957]\n",
      "\n",
      "users in line: \t1\n",
      "CLIENT 3 of type [1] created at time [2.541513172949957] departed at time [2.6324655775565233]\n",
      "\n",
      "users in line: \t0\n",
      "ARRIVAL at time: \t4.657436867523769\n",
      "new CLIENT created of type [1] at time [4.657436867523769]\n",
      "\n",
      "users in line: \t1\n",
      "CLIENT 4 of type [1] created at time [4.657436867523769] departed at time [4.687687044731128]\n",
      "\n",
      "users in line: \t0\n",
      "ARRIVAL at time: \t5.178080718950436\n",
      "new CLIENT created of type [1] at time [5.178080718950436]\n",
      "\n",
      "users in line: \t1\n",
      "ARRIVAL at time: \t5.412461580112269\n",
      "new CLIENT created of type [1] at time [5.412461580112269]\n",
      "\n",
      "users in line: \t2\n",
      "ARRIVAL at time: \t5.438011263608561\n",
      "new CLIENT created of type [1] at time [5.438011263608561]\n",
      "\n",
      "users in line: \t3\n",
      "ARRIVAL at time: \t5.648618349314058\n",
      "new CLIENT created of type [1] at time [5.648618349314058]\n",
      "\n",
      "users in line: \t4\n",
      "CLIENT 5 of type [1] created at time [5.178080718950436] departed at time [5.881996246816589]\n",
      "\n",
      "users in line: \t3\n",
      "ARRIVAL at time: \t6.645635750475502\n",
      "new CLIENT created of type [1] at time [6.645635750475502]\n",
      "\n",
      "users in line: \t4\n",
      "CLIENT 6 of type [1] created at time [5.412461580112269] departed at time [6.6693255010589905]\n",
      "\n",
      "users in line: \t3\n",
      "ARRIVAL at time: \t6.882210848493984\n",
      "new CLIENT created of type [1] at time [6.882210848493984]\n",
      "\n",
      "users in line: \t4\n",
      "CLIENT 7 of type [1] created at time [5.438011263608561] departed at time [7.559134207360753]\n",
      "\n",
      "users in line: \t3\n",
      "CLIENT 8 of type [1] created at time [5.648618349314058] departed at time [7.56565417591502]\n",
      "\n",
      "users in line: \t2\n",
      "ARRIVAL at time: \t8.457062038005926\n",
      "new CLIENT created of type [1] at time [8.457062038005926]\n",
      "\n",
      "users in line: \t3\n",
      "CLIENT 9 of type [1] created at time [6.645635750475502] departed at time [9.20462003800557]\n",
      "\n",
      "users in line: \t2\n",
      "ARRIVAL at time: \t9.594962481930736\n",
      "new CLIENT created of type [1] at time [9.594962481930736]\n",
      "\n",
      "users in line: \t3\n",
      "CLIENT 10 of type [1] created at time [6.882210848493984] departed at time [9.620515124504152]\n",
      "\n",
      "users in line: \t2\n",
      "ARRIVAL at time: \t9.755499436613642\n",
      "new CLIENT created of type [1] at time [9.755499436613642]\n",
      "\n",
      "users in line: \t3\n",
      "ARRIVAL at time: \t10.14534992000067\n",
      "new CLIENT created of type [1] at time [10.14534992000067]\n",
      "\n",
      "users in line: \t4\n",
      "ARRIVAL at time: \t10.23781593877363\n",
      "new CLIENT created of type [1] at time [10.23781593877363]\n",
      "\n",
      "users in line: \t5\n",
      "ARRIVAL at time: \t10.334448689519482\n",
      "new CLIENT created of type [1] at time [10.334448689519482]\n",
      "\n",
      "users in line: \t6\n",
      "ARRIVAL at time: \t12.120974744070963\n",
      "new CLIENT created of type [1] at time [12.120974744070963]\n",
      "\n",
      "users in line: \t7\n",
      "CLIENT 11 of type [1] created at time [8.457062038005926] departed at time [12.772037772942456]\n",
      "\n",
      "users in line: \t6\n",
      "ARRIVAL at time: \t13.000341737679177\n",
      "new CLIENT created of type [1] at time [13.000341737679177]\n",
      "\n",
      "users in line: \t7\n",
      "ARRIVAL at time: \t14.24326514660313\n",
      "new CLIENT created of type [1] at time [14.24326514660313]\n",
      "\n",
      "users in line: \t8\n",
      "CLIENT 12 of type [1] created at time [9.594962481930736] departed at time [14.417767712347715]\n",
      "\n",
      "users in line: \t7\n",
      "ARRIVAL at time: \t14.973209449431792\n",
      "new CLIENT created of type [1] at time [14.973209449431792]\n",
      "\n",
      "users in line: \t8\n",
      "ARRIVAL at time: \t15.425100398138328\n",
      "new CLIENT created of type [1] at time [15.425100398138328]\n",
      "\n",
      "users in line: \t9\n",
      "ARRIVAL at time: \t16.188000506350487\n",
      "new CLIENT created of type [1] at time [16.188000506350487]\n",
      "\n",
      "users in line: \t10\n",
      "ARRIVAL at time: \t17.868038441706716\n",
      "new CLIENT created of type [1] at time [17.868038441706716]\n",
      "\n",
      "users in line: \t11\n",
      "CLIENT 13 of type [1] created at time [9.755499436613642] departed at time [18.033982898037735]\n",
      "\n",
      "users in line: \t10\n",
      "ARRIVAL at time: \t18.783549836577222\n",
      "new CLIENT created of type [1] at time [18.783549836577222]\n",
      "\n",
      "users in line: \t11\n",
      "ARRIVAL at time: \t19.601704980858624\n",
      "new CLIENT created of type [1] at time [19.601704980858624]\n",
      "\n",
      "users in line: \t12\n",
      "CLIENT 14 of type [1] created at time [10.14534992000067] departed at time [20.01236283338115]\n",
      "\n"
     ]
    }
   ],
   "source": [
    "# schedule the first arrival at t=0\n",
    "FES.append((time, \"arrival\"))\n",
    "\n",
    "#create dataframe to store informations\n",
    "df = pd.DataFrame(columns=columns)\n",
    "\n",
    "while time < SIM_TIME:\n",
    "    # sort FES in order to ave events in cronological order\n",
    "    FES.sort(key=lambda x: x[0])\n",
    "    (time, event_type) = FES.pop(0)\n",
    "\n",
    "    print(\"users in line: \\t{}\".format(users))\n",
    "\n",
    "    if event_type == \"arrival\":\n",
    "        event += 1\n",
    "        arrivals += 1\n",
    "        new_df = pd.DataFrame([\n",
    "            [event, float(time), \"arrival\", len(queue), arrivals, departures, users]\n",
    "        ], columns=columns)\n",
    "\n",
    "        arrival(time, FES, queue)\n",
    "\n",
    "    elif event_type == \"departure\":\n",
    "        event += 1\n",
    "        departures += 1\n",
    "        new_df = pd.DataFrame([\n",
    "            [event, float(time), \"departure\", len(queue), arrivals, departures, users]\n",
    "        ], columns=columns)\n",
    "\n",
    "        departure(time, FES, queue)\n",
    "\n",
    "    df = pd.concat([df, new_df])\n",
    "    print()\n"
   ]
  },
  {
   "cell_type": "code",
   "execution_count": 129,
   "outputs": [
    {
     "data": {
      "text/plain": "  event       time       type queue arr cust depar cust in line\n0     1        0.0    arrival     0        1          0       0\n0     2   0.025329  departure     1        1          1       1\n0     3   0.969057    arrival     0        2          1       0\n0     4   1.221643  departure     1        2          2       1\n0     5     1.2746    arrival     0        3          2       0\n0     6   2.403773  departure     1        3          3       1\n0     7   2.541513    arrival     0        4          3       0\n0     8   2.632466  departure     1        4          4       1\n0     9   4.657437    arrival     0        5          4       0\n0    10   4.687687  departure     1        5          5       1\n0    11   5.178081    arrival     0        6          5       0\n0    12   5.412462    arrival     1        7          5       1\n0    13   5.438011    arrival     2        8          5       2\n0    14   5.648618    arrival     3        9          5       3\n0    15   5.881996  departure     4        9          6       4\n0    16   6.645636    arrival     3       10          6       3\n0    17   6.669326  departure     4       10          7       4\n0    18   6.882211    arrival     3       11          7       3\n0    19   7.559134  departure     4       11          8       4\n0    20   7.565654  departure     3       11          9       3\n0    21   8.457062    arrival     2       12          9       2\n0    22    9.20462  departure     3       12         10       3\n0    23   9.594962    arrival     2       13         10       2\n0    24   9.620515  departure     3       13         11       3\n0    25   9.755499    arrival     2       14         11       2\n0    26   10.14535    arrival     3       15         11       3\n0    27  10.237816    arrival     4       16         11       4\n0    28  10.334449    arrival     5       17         11       5\n0    29  12.120975    arrival     6       18         11       6\n0    30  12.772038  departure     7       18         12       7\n0    31  13.000342    arrival     6       19         12       6\n0    32  14.243265    arrival     7       20         12       7\n0    33  14.417768  departure     8       20         13       8\n0    34  14.973209    arrival     7       21         13       7\n0    35    15.4251    arrival     8       22         13       8\n0    36  16.188001    arrival     9       23         13       9\n0    37  17.868038    arrival    10       24         13      10\n0    38  18.033983  departure    11       24         14      11\n0    39   18.78355    arrival    10       25         14      10\n0    40  19.601705    arrival    11       26         14      11\n0    41  20.012363  departure    12       26         15      12",
      "text/html": "<div>\n<style scoped>\n    .dataframe tbody tr th:only-of-type {\n        vertical-align: middle;\n    }\n\n    .dataframe tbody tr th {\n        vertical-align: top;\n    }\n\n    .dataframe thead th {\n        text-align: right;\n    }\n</style>\n<table border=\"1\" class=\"dataframe\">\n  <thead>\n    <tr style=\"text-align: right;\">\n      <th></th>\n      <th>event</th>\n      <th>time</th>\n      <th>type</th>\n      <th>queue</th>\n      <th>arr cust</th>\n      <th>depar cust</th>\n      <th>in line</th>\n    </tr>\n  </thead>\n  <tbody>\n    <tr>\n      <th>0</th>\n      <td>1</td>\n      <td>0.0</td>\n      <td>arrival</td>\n      <td>0</td>\n      <td>1</td>\n      <td>0</td>\n      <td>0</td>\n    </tr>\n    <tr>\n      <th>0</th>\n      <td>2</td>\n      <td>0.025329</td>\n      <td>departure</td>\n      <td>1</td>\n      <td>1</td>\n      <td>1</td>\n      <td>1</td>\n    </tr>\n    <tr>\n      <th>0</th>\n      <td>3</td>\n      <td>0.969057</td>\n      <td>arrival</td>\n      <td>0</td>\n      <td>2</td>\n      <td>1</td>\n      <td>0</td>\n    </tr>\n    <tr>\n      <th>0</th>\n      <td>4</td>\n      <td>1.221643</td>\n      <td>departure</td>\n      <td>1</td>\n      <td>2</td>\n      <td>2</td>\n      <td>1</td>\n    </tr>\n    <tr>\n      <th>0</th>\n      <td>5</td>\n      <td>1.2746</td>\n      <td>arrival</td>\n      <td>0</td>\n      <td>3</td>\n      <td>2</td>\n      <td>0</td>\n    </tr>\n    <tr>\n      <th>0</th>\n      <td>6</td>\n      <td>2.403773</td>\n      <td>departure</td>\n      <td>1</td>\n      <td>3</td>\n      <td>3</td>\n      <td>1</td>\n    </tr>\n    <tr>\n      <th>0</th>\n      <td>7</td>\n      <td>2.541513</td>\n      <td>arrival</td>\n      <td>0</td>\n      <td>4</td>\n      <td>3</td>\n      <td>0</td>\n    </tr>\n    <tr>\n      <th>0</th>\n      <td>8</td>\n      <td>2.632466</td>\n      <td>departure</td>\n      <td>1</td>\n      <td>4</td>\n      <td>4</td>\n      <td>1</td>\n    </tr>\n    <tr>\n      <th>0</th>\n      <td>9</td>\n      <td>4.657437</td>\n      <td>arrival</td>\n      <td>0</td>\n      <td>5</td>\n      <td>4</td>\n      <td>0</td>\n    </tr>\n    <tr>\n      <th>0</th>\n      <td>10</td>\n      <td>4.687687</td>\n      <td>departure</td>\n      <td>1</td>\n      <td>5</td>\n      <td>5</td>\n      <td>1</td>\n    </tr>\n    <tr>\n      <th>0</th>\n      <td>11</td>\n      <td>5.178081</td>\n      <td>arrival</td>\n      <td>0</td>\n      <td>6</td>\n      <td>5</td>\n      <td>0</td>\n    </tr>\n    <tr>\n      <th>0</th>\n      <td>12</td>\n      <td>5.412462</td>\n      <td>arrival</td>\n      <td>1</td>\n      <td>7</td>\n      <td>5</td>\n      <td>1</td>\n    </tr>\n    <tr>\n      <th>0</th>\n      <td>13</td>\n      <td>5.438011</td>\n      <td>arrival</td>\n      <td>2</td>\n      <td>8</td>\n      <td>5</td>\n      <td>2</td>\n    </tr>\n    <tr>\n      <th>0</th>\n      <td>14</td>\n      <td>5.648618</td>\n      <td>arrival</td>\n      <td>3</td>\n      <td>9</td>\n      <td>5</td>\n      <td>3</td>\n    </tr>\n    <tr>\n      <th>0</th>\n      <td>15</td>\n      <td>5.881996</td>\n      <td>departure</td>\n      <td>4</td>\n      <td>9</td>\n      <td>6</td>\n      <td>4</td>\n    </tr>\n    <tr>\n      <th>0</th>\n      <td>16</td>\n      <td>6.645636</td>\n      <td>arrival</td>\n      <td>3</td>\n      <td>10</td>\n      <td>6</td>\n      <td>3</td>\n    </tr>\n    <tr>\n      <th>0</th>\n      <td>17</td>\n      <td>6.669326</td>\n      <td>departure</td>\n      <td>4</td>\n      <td>10</td>\n      <td>7</td>\n      <td>4</td>\n    </tr>\n    <tr>\n      <th>0</th>\n      <td>18</td>\n      <td>6.882211</td>\n      <td>arrival</td>\n      <td>3</td>\n      <td>11</td>\n      <td>7</td>\n      <td>3</td>\n    </tr>\n    <tr>\n      <th>0</th>\n      <td>19</td>\n      <td>7.559134</td>\n      <td>departure</td>\n      <td>4</td>\n      <td>11</td>\n      <td>8</td>\n      <td>4</td>\n    </tr>\n    <tr>\n      <th>0</th>\n      <td>20</td>\n      <td>7.565654</td>\n      <td>departure</td>\n      <td>3</td>\n      <td>11</td>\n      <td>9</td>\n      <td>3</td>\n    </tr>\n    <tr>\n      <th>0</th>\n      <td>21</td>\n      <td>8.457062</td>\n      <td>arrival</td>\n      <td>2</td>\n      <td>12</td>\n      <td>9</td>\n      <td>2</td>\n    </tr>\n    <tr>\n      <th>0</th>\n      <td>22</td>\n      <td>9.20462</td>\n      <td>departure</td>\n      <td>3</td>\n      <td>12</td>\n      <td>10</td>\n      <td>3</td>\n    </tr>\n    <tr>\n      <th>0</th>\n      <td>23</td>\n      <td>9.594962</td>\n      <td>arrival</td>\n      <td>2</td>\n      <td>13</td>\n      <td>10</td>\n      <td>2</td>\n    </tr>\n    <tr>\n      <th>0</th>\n      <td>24</td>\n      <td>9.620515</td>\n      <td>departure</td>\n      <td>3</td>\n      <td>13</td>\n      <td>11</td>\n      <td>3</td>\n    </tr>\n    <tr>\n      <th>0</th>\n      <td>25</td>\n      <td>9.755499</td>\n      <td>arrival</td>\n      <td>2</td>\n      <td>14</td>\n      <td>11</td>\n      <td>2</td>\n    </tr>\n    <tr>\n      <th>0</th>\n      <td>26</td>\n      <td>10.14535</td>\n      <td>arrival</td>\n      <td>3</td>\n      <td>15</td>\n      <td>11</td>\n      <td>3</td>\n    </tr>\n    <tr>\n      <th>0</th>\n      <td>27</td>\n      <td>10.237816</td>\n      <td>arrival</td>\n      <td>4</td>\n      <td>16</td>\n      <td>11</td>\n      <td>4</td>\n    </tr>\n    <tr>\n      <th>0</th>\n      <td>28</td>\n      <td>10.334449</td>\n      <td>arrival</td>\n      <td>5</td>\n      <td>17</td>\n      <td>11</td>\n      <td>5</td>\n    </tr>\n    <tr>\n      <th>0</th>\n      <td>29</td>\n      <td>12.120975</td>\n      <td>arrival</td>\n      <td>6</td>\n      <td>18</td>\n      <td>11</td>\n      <td>6</td>\n    </tr>\n    <tr>\n      <th>0</th>\n      <td>30</td>\n      <td>12.772038</td>\n      <td>departure</td>\n      <td>7</td>\n      <td>18</td>\n      <td>12</td>\n      <td>7</td>\n    </tr>\n    <tr>\n      <th>0</th>\n      <td>31</td>\n      <td>13.000342</td>\n      <td>arrival</td>\n      <td>6</td>\n      <td>19</td>\n      <td>12</td>\n      <td>6</td>\n    </tr>\n    <tr>\n      <th>0</th>\n      <td>32</td>\n      <td>14.243265</td>\n      <td>arrival</td>\n      <td>7</td>\n      <td>20</td>\n      <td>12</td>\n      <td>7</td>\n    </tr>\n    <tr>\n      <th>0</th>\n      <td>33</td>\n      <td>14.417768</td>\n      <td>departure</td>\n      <td>8</td>\n      <td>20</td>\n      <td>13</td>\n      <td>8</td>\n    </tr>\n    <tr>\n      <th>0</th>\n      <td>34</td>\n      <td>14.973209</td>\n      <td>arrival</td>\n      <td>7</td>\n      <td>21</td>\n      <td>13</td>\n      <td>7</td>\n    </tr>\n    <tr>\n      <th>0</th>\n      <td>35</td>\n      <td>15.4251</td>\n      <td>arrival</td>\n      <td>8</td>\n      <td>22</td>\n      <td>13</td>\n      <td>8</td>\n    </tr>\n    <tr>\n      <th>0</th>\n      <td>36</td>\n      <td>16.188001</td>\n      <td>arrival</td>\n      <td>9</td>\n      <td>23</td>\n      <td>13</td>\n      <td>9</td>\n    </tr>\n    <tr>\n      <th>0</th>\n      <td>37</td>\n      <td>17.868038</td>\n      <td>arrival</td>\n      <td>10</td>\n      <td>24</td>\n      <td>13</td>\n      <td>10</td>\n    </tr>\n    <tr>\n      <th>0</th>\n      <td>38</td>\n      <td>18.033983</td>\n      <td>departure</td>\n      <td>11</td>\n      <td>24</td>\n      <td>14</td>\n      <td>11</td>\n    </tr>\n    <tr>\n      <th>0</th>\n      <td>39</td>\n      <td>18.78355</td>\n      <td>arrival</td>\n      <td>10</td>\n      <td>25</td>\n      <td>14</td>\n      <td>10</td>\n    </tr>\n    <tr>\n      <th>0</th>\n      <td>40</td>\n      <td>19.601705</td>\n      <td>arrival</td>\n      <td>11</td>\n      <td>26</td>\n      <td>14</td>\n      <td>11</td>\n    </tr>\n    <tr>\n      <th>0</th>\n      <td>41</td>\n      <td>20.012363</td>\n      <td>departure</td>\n      <td>12</td>\n      <td>26</td>\n      <td>15</td>\n      <td>12</td>\n    </tr>\n  </tbody>\n</table>\n</div>"
     },
     "execution_count": 129,
     "metadata": {},
     "output_type": "execute_result"
    }
   ],
   "source": [
    "df"
   ],
   "metadata": {
    "collapsed": false,
    "pycharm": {
     "name": "#%%\n"
    }
   }
  }
 ],
 "metadata": {
  "kernelspec": {
   "display_name": "Python 3.9.13 64-bit",
   "language": "python",
   "name": "python3"
  },
  "language_info": {
   "codemirror_mode": {
    "name": "ipython",
    "version": 3
   },
   "file_extension": ".py",
   "mimetype": "text/x-python",
   "name": "python",
   "nbconvert_exporter": "python",
   "pygments_lexer": "ipython3",
   "version": "3.9.13"
  },
  "orig_nbformat": 4,
  "vscode": {
   "interpreter": {
    "hash": "72f235a78b5cf937fd09c1593b6a0e4473f824a03930b62c2c7d9a177b9de8f3"
   }
  }
 },
 "nbformat": 4,
 "nbformat_minor": 2
}