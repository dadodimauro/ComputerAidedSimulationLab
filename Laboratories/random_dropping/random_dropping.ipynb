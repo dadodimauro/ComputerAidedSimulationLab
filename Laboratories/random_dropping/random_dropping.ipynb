{
 "cells": [
  {
   "cell_type": "code",
   "execution_count": 1,
   "metadata": {
    "collapsed": true,
    "pycharm": {
     "name": "#%%\n"
    }
   },
   "outputs": [],
   "source": [
    "import numpy as np\n",
    "import pandas as pd\n",
    "import math\n",
    "from scipy import stats\n",
    "import matplotlib.pyplot as plt"
   ]
  },
  {
   "cell_type": "code",
   "execution_count": 2,
   "outputs": [],
   "source": [
    "# fill n bins with random dropping policy\n",
    "# input: n -> number of balls and bins\n",
    "# output: max occupancy, min occupancy, avg occupancy\n",
    "def random_dropping(n):\n",
    "    bins = np.zeros(n, dtype=int)  # array of bins\n",
    "    for i in range(n):\n",
    "        bins[np.random.randint(0, n)] += 1  # select randomly 1 bin and add a ball\n",
    "\n",
    "    max = bins.max()\n",
    "    min = bins.min()\n",
    "    mean = bins.mean()\n",
    "\n",
    "    return max, min, mean\n"
   ],
   "metadata": {
    "collapsed": false,
    "pycharm": {
     "name": "#%%\n"
    }
   }
  },
  {
   "cell_type": "code",
   "execution_count": 3,
   "outputs": [],
   "source": [
    "# fill n bins with random dropping policy\n",
    "# input: n -> number of balls and bins, d -> number of bins chosen at each round\n",
    "# output: max occupancy, min occupancy, avg occupancy\n",
    "def random_dropping_load_balancing(n, d):\n",
    "    bins = np.zeros(n, dtype=int)  # array of bins\n",
    "    for i in range(0, n):\n",
    "        selected_bins = np.random.randint(0, n, d)  # select at random d bins\n",
    "\n",
    "        # find the bin from selected_bins that is least occupied\n",
    "        min_value = n+1\n",
    "        min_index = -1\n",
    "        for b in selected_bins:\n",
    "            if bins[b] < min_value:\n",
    "                min_value = bins[b]\n",
    "                min_index = b\n",
    "\n",
    "        bins[min_index] += 1  # increment the number of balls in the bin\n",
    "\n",
    "    max = bins.max()\n",
    "    min = bins.min()\n",
    "    mean = bins.mean()\n",
    "\n",
    "    return max, min, mean\n"
   ],
   "metadata": {
    "collapsed": false,
    "pycharm": {
     "name": "#%%\n"
    }
   }
  },
  {
   "cell_type": "code",
   "execution_count": 4,
   "outputs": [],
   "source": [
    "# random dropping\n",
    "def simulate_random_dropping():\n",
    "    _d = dict()\n",
    "    max_values_dict = dict()\n",
    "    for n in np.logspace(2, 5, 50, endpoint = True, dtype=int):  # take numbers spaced on a log scale\n",
    "        max, min, mean = random_dropping(n)\n",
    "        # min usually is 0\n",
    "        # avg always one\n",
    "        th_value = math.log(n)/math.log(math.log(n))  # compute the theoretical value\n",
    "        _d[n] = [max, th_value]\n",
    "        max_values_dict[n] = max\n",
    "\n",
    "        # create dataframe\n",
    "        # df_rnd_dropping = pd.DataFrame.from_dict(_d, orient=\"index\", columns=[\"max_occupancy\", \"th_max_occupancy\"])\n",
    "        # df_rnd_dropping.to_csv(f\"rnd_dropping_simulation_{seed}.csv\")\n",
    "\n",
    "        # return a dataframe with the values of max occupancy for each n\n",
    "    return pd.DataFrame.from_dict(max_values_dict, orient=\"index\", columns=[\"max_occupancy\"])"
   ],
   "metadata": {
    "collapsed": false,
    "pycharm": {
     "name": "#%%\n"
    }
   }
  },
  {
   "cell_type": "code",
   "execution_count": 5,
   "outputs": [],
   "source": [
    "# load balancing d=2,4\n",
    "def simulate_load_balancing(d):\n",
    "    _d = dict()\n",
    "    max_values_dict = dict()\n",
    "    for n in np.logspace(2, 5, 50, endpoint = True, dtype=int):  # take numbers spaced on a log scale\n",
    "        max, min, mean = random_dropping_load_balancing(n, d)\n",
    "        # min usually is 0\n",
    "        # avg always one\n",
    "        th_value = math.log(math.log(n))/math.log(d)  # compute the theoretical value\n",
    "        _d[n] = [max, th_value]\n",
    "        max_values_dict[n] = max\n",
    "\n",
    "        # create dataframe\n",
    "        # df_load_balancing_2 = pd.DataFrame.from_dict(_d, orient=\"index\", columns=[\"max_occupancy\", \"th_max_occupancy\"])\n",
    "        # df_load_balancing_2.to_csv(f\"load_balancing_{d}_{seed}.csv\")\n",
    "\n",
    "        # return a dataframe with the values of max occupancy for each n\n",
    "    return pd.DataFrame.from_dict(max_values_dict, orient=\"index\", columns=[f\"max_occupancy_{d}\"])"
   ],
   "metadata": {
    "collapsed": false,
    "pycharm": {
     "name": "#%%\n"
    }
   }
  },
  {
   "cell_type": "code",
   "execution_count": 44,
   "outputs": [],
   "source": [
    "# input: number of runs\n",
    "# iterate for each seed and simulates the dropping algorithms\n",
    "# then compute and plot the confidence intervals\n",
    "\n",
    "def run_simulation(n_runs):\n",
    "    seeds = range(0, n_runs)\n",
    "    dfs = []\n",
    "    for seed in seeds:\n",
    "        np.random.seed(seed)\n",
    "        df_rnd_dropping = simulate_random_dropping()  # simulate random dropping\n",
    "        df_load_balancing_2 = simulate_load_balancing(2)  # simulate load balancing d=2\n",
    "        df_load_balancing_4 = simulate_load_balancing(4)  # simulate load balancing d=4\n",
    "\n",
    "        # create a dataframe for each seed\n",
    "        dfs.append(pd.concat([df_rnd_dropping, df_load_balancing_2, df_load_balancing_4], axis=1))\n",
    "\n",
    "    # compute mean and variance for each n between different runs\n",
    "    mean_df = 0\n",
    "    var_df = 0\n",
    "    for df in dfs:\n",
    "        mean_df += df\n",
    "\n",
    "    mean_df /= len(dfs)\n",
    "\n",
    "    for df in dfs:\n",
    "        var_df = pow(df - mean_df, 2)\n",
    "\n",
    "    var_df = 1/(len(dfs) - 1) * var_df\n",
    "\n",
    "    # 95% confidence interval\n",
    "    t_crit = stats.t.ppf(q=0.95, df=len(dfs))\n",
    "    down_i = mean_df - t_crit * np.sqrt(var_df)/np.sqrt(len(dfs))\n",
    "    up_i = mean_df + t_crit * np.sqrt(var_df)/np.sqrt(len(dfs))\n",
    "\n",
    "    # plot\n",
    "    plt.figure(figsize=(10, 7))\n",
    "\n",
    "    plt.fill_between(x=dfs[0].index, y1=up_i[\"max_occupancy\"], y2=down_i[\"max_occupancy\"], alpha=.3)\n",
    "    plt.fill_between(x=dfs[0].index, y1=up_i[\"max_occupancy_2\"], y2=down_i[\"max_occupancy_2\"], alpha=.3)\n",
    "    plt.fill_between(x=dfs[0].index, y1=up_i[\"max_occupancy_4\"], y2=down_i[\"max_occupancy_4\"], alpha=.3)\n",
    "\n",
    "    plt.plot(mean_df, marker=\"o\", label=[\"random_dropping\", \"load_balancing d=2\", \"load_balancing d=4\"])\n",
    "\n",
    "    plt.text(83, 7.15, \"95% confidence interval\")\n",
    "    plt.legend()\n",
    "    plt.grid()\n",
    "    plt.xlabel(\"n\")\n",
    "    plt.ylabel(\"max_occupancy\")\n",
    "    plt.xscale(\"log\")\n",
    "    plt.show()\n"
   ],
   "metadata": {
    "collapsed": false,
    "pycharm": {
     "name": "#%%\n"
    }
   }
  },
  {
   "cell_type": "code",
   "execution_count": 45,
   "outputs": [
    {
     "ename": "ZeroDivisionError",
     "evalue": "division by zero",
     "output_type": "error",
     "traceback": [
      "\u001B[1;31m---------------------------------------------------------------------------\u001B[0m",
      "\u001B[1;31mZeroDivisionError\u001B[0m                         Traceback (most recent call last)",
      "Cell \u001B[1;32mIn [45], line 1\u001B[0m\n\u001B[1;32m----> 1\u001B[0m \u001B[43mrun_simulation\u001B[49m\u001B[43m(\u001B[49m\u001B[38;5;241;43m3\u001B[39;49m\u001B[43m)\u001B[49m\n",
      "Cell \u001B[1;32mIn [44], line 28\u001B[0m, in \u001B[0;36mrun_simulation\u001B[1;34m(n_runs)\u001B[0m\n\u001B[0;32m     25\u001B[0m \u001B[38;5;28;01mfor\u001B[39;00m df \u001B[38;5;129;01min\u001B[39;00m dfs:\n\u001B[0;32m     26\u001B[0m     var_df \u001B[38;5;241m=\u001B[39m \u001B[38;5;28mpow\u001B[39m(df \u001B[38;5;241m-\u001B[39m mean_df, \u001B[38;5;241m2\u001B[39m)\n\u001B[1;32m---> 28\u001B[0m var_df \u001B[38;5;241m=\u001B[39m \u001B[38;5;241;43m1\u001B[39;49m\u001B[38;5;241;43m/\u001B[39;49m\u001B[43m(\u001B[49m\u001B[38;5;28;43mlen\u001B[39;49m\u001B[43m(\u001B[49m\u001B[43mdfs\u001B[49m\u001B[43m)\u001B[49m\u001B[43m \u001B[49m\u001B[38;5;241;43m-\u001B[39;49m\u001B[43m \u001B[49m\u001B[38;5;241;43m1\u001B[39;49m\u001B[43m)\u001B[49m \u001B[38;5;241m*\u001B[39m var_df\n\u001B[0;32m     30\u001B[0m \u001B[38;5;66;03m# 95% confidence interval\u001B[39;00m\n\u001B[0;32m     31\u001B[0m t_crit \u001B[38;5;241m=\u001B[39m stats\u001B[38;5;241m.\u001B[39mt\u001B[38;5;241m.\u001B[39mppf(q\u001B[38;5;241m=\u001B[39m\u001B[38;5;241m0.95\u001B[39m, df\u001B[38;5;241m=\u001B[39m\u001B[38;5;28mlen\u001B[39m(dfs))\n",
      "\u001B[1;31mZeroDivisionError\u001B[0m: division by zero"
     ]
    }
   ],
   "source": [
    "run_simulation(3)"
   ],
   "metadata": {
    "collapsed": false,
    "pycharm": {
     "name": "#%%\n"
    }
   }
  }
 ],
 "metadata": {
  "kernelspec": {
   "display_name": "Python 3",
   "language": "python",
   "name": "python3"
  },
  "language_info": {
   "codemirror_mode": {
    "name": "ipython",
    "version": 2
   },
   "file_extension": ".py",
   "mimetype": "text/x-python",
   "name": "python",
   "nbconvert_exporter": "python",
   "pygments_lexer": "ipython2",
   "version": "2.7.6"
  }
 },
 "nbformat": 4,
 "nbformat_minor": 0
}