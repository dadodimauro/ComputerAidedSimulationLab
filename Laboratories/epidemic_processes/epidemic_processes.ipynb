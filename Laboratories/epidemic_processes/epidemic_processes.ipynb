{
 "cells": [
  {
   "cell_type": "code",
   "execution_count": 1,
   "metadata": {
    "collapsed": true,
    "pycharm": {
     "name": "#%%\n"
    }
   },
   "outputs": [],
   "source": [
    "import numpy as np\n",
    "import math\n",
    "from scipy import stats\n",
    "import matplotlib.pyplot as plt"
   ]
  },
  {
   "cell_type": "code",
   "execution_count": 2,
   "outputs": [],
   "source": [
    "np.random.seed(42)"
   ],
   "metadata": {
    "collapsed": false,
    "pycharm": {
     "name": "#%%\n"
    }
   }
  },
  {
   "cell_type": "code",
   "execution_count": 3,
   "outputs": [],
   "source": [
    "def generate_ancestors(t=10, sigma=20):\n",
    "    ancestors = []\n",
    "    time = 0\n",
    "    while time <= t:\n",
    "        x = np.random.exponential(1/sigma)\n",
    "        ancestors.append(time)\n",
    "        time += x\n",
    "\n",
    "\n",
    "    return ancestors"
   ],
   "metadata": {
    "collapsed": false,
    "pycharm": {
     "name": "#%%\n"
    }
   }
  },
  {
   "cell_type": "code",
   "execution_count": 4,
   "outputs": [],
   "source": [
    "def h(n, _lambda=0.1, _type='uni'):\n",
    "    if _type == 'uni':\n",
    "        return np.random.uniform(0, 20, size=n)  # uniform [0, 20]\n",
    "    if _type == 'exp':\n",
    "        # return stats.expon.rvs(scale=1/_lambda, size=n)  # lambda*exp{-lambda*t}\n",
    "        return np.random.exponential(1/_lambda, size=n)"
   ],
   "metadata": {
    "collapsed": false,
    "pycharm": {
     "name": "#%%\n"
    }
   }
  },
  {
   "cell_type": "code",
   "execution_count": 5,
   "outputs": [],
   "source": [
    "def generate_taus(n, t, _lambda=0.1, _type='uni'):\n",
    "    taus = []\n",
    "    for i in range(n):\n",
    "        taus.append(h(t, _lambda=_lambda, _type=_type))\n",
    "\n",
    "    return taus"
   ],
   "metadata": {
    "collapsed": false,
    "pycharm": {
     "name": "#%%\n"
    }
   }
  },
  {
   "cell_type": "code",
   "execution_count": 6,
   "outputs": [],
   "source": [
    "class Simulator:\n",
    "    def __init__(self, n_runs, n_gen, h_type='uni'):\n",
    "        self.n_runs = n_runs\n",
    "        self.n_gen = n_gen\n",
    "\n",
    "        self.m = 2\n",
    "        self.h_type = h_type\n",
    "        self.death_prob = 0.02\n",
    "\n",
    "    def run_experiment(self, _type):\n",
    "        ancestors = generate_ancestors()\n",
    "        l = [ancestors]\n",
    "        deaths = []\n",
    "        infected = []\n",
    "\n",
    "        for i in range(self.n_gen):\n",
    "            print(f\"gen: {i}, nodes: {len(l[i])}\")\n",
    "            death = np.random.random(size=len(l[i]))\n",
    "            death = death[death < self.death_prob]\n",
    "            deaths.append(len(death))\n",
    "\n",
    "            nodes_i = []\n",
    "            for parents_time in l[i]:\n",
    "                infected.append(parents_time)\n",
    "\n",
    "                n = stats.poisson.rvs(self.m)  # generate children\n",
    "\n",
    "                # taus = generate_taus(n, parents_time, _type=_type)\n",
    "                taus = h(n, _type=_type)\n",
    "                t_w = np.array(taus) + parents_time\n",
    "\n",
    "                # not add childs above time threshold\n",
    "\n",
    "                nodes_i.extend(t_w[t_w < self.n_gen])\n",
    "\n",
    "            l.append(nodes_i)\n",
    "            if len(nodes_i) == 0:  # exit if process is extinct\n",
    "                break\n",
    "\n",
    "\n",
    "        return l, infected, deaths\n",
    "\n",
    "    def plot(self):\n",
    "        pass\n",
    "\n",
    "    def simulate(self, n_runs=1):\n",
    "\n",
    "        res_uni = self.run_experiment(_type='uni')\n",
    "        res_exp = self.run_experiment(_type='exp')\n",
    "\n",
    "        return res_uni, res_exp"
   ],
   "metadata": {
    "collapsed": false,
    "pycharm": {
     "name": "#%%\n"
    }
   }
  },
  {
   "cell_type": "code",
   "execution_count": 17,
   "outputs": [],
   "source": [
    "s = Simulator(1, 100)"
   ],
   "metadata": {
    "collapsed": false,
    "pycharm": {
     "name": "#%%\n"
    }
   }
  },
  {
   "cell_type": "code",
   "execution_count": 18,
   "outputs": [
    {
     "name": "stdout",
     "output_type": "stream",
     "text": [
      "gen: 0, nodes: 181\n",
      "gen: 1, nodes: 357\n",
      "gen: 2, nodes: 683\n",
      "gen: 3, nodes: 1403\n",
      "gen: 4, nodes: 2735\n",
      "gen: 5, nodes: 5421\n",
      "gen: 6, nodes: 10737\n",
      "gen: 7, nodes: 20554\n",
      "gen: 8, nodes: 35791\n",
      "gen: 9, nodes: 54107\n",
      "gen: 10, nodes: 69991\n",
      "gen: 11, nodes: 78014\n",
      "gen: 12, nodes: 75947\n",
      "gen: 13, nodes: 66154\n",
      "gen: 14, nodes: 52178\n",
      "gen: 15, nodes: 37419\n",
      "gen: 16, nodes: 25176\n",
      "gen: 17, nodes: 15809\n",
      "gen: 18, nodes: 9352\n",
      "gen: 19, nodes: 5298\n",
      "gen: 20, nodes: 2692\n",
      "gen: 21, nodes: 1275\n",
      "gen: 22, nodes: 553\n",
      "gen: 23, nodes: 249\n",
      "gen: 24, nodes: 113\n",
      "gen: 25, nodes: 57\n",
      "gen: 26, nodes: 38\n",
      "gen: 27, nodes: 9\n",
      "gen: 28, nodes: 1\n",
      "gen: 0, nodes: 220\n",
      "gen: 1, nodes: 396\n",
      "gen: 2, nodes: 754\n",
      "gen: 3, nodes: 1504\n",
      "gen: 4, nodes: 2971\n",
      "gen: 5, nodes: 5688\n",
      "gen: 6, nodes: 10658\n",
      "gen: 7, nodes: 19423\n",
      "gen: 8, nodes: 33791\n",
      "gen: 9, nodes: 55693\n",
      "gen: 10, nodes: 86941\n",
      "gen: 11, nodes: 128566\n",
      "gen: 12, nodes: 179786\n",
      "gen: 13, nodes: 237401\n",
      "gen: 14, nodes: 295555\n",
      "gen: 15, nodes: 348116\n",
      "gen: 16, nodes: 387936\n",
      "gen: 17, nodes: 411737\n",
      "gen: 18, nodes: 416550\n",
      "gen: 19, nodes: 402407\n",
      "gen: 20, nodes: 372966\n",
      "gen: 21, nodes: 329487\n",
      "gen: 22, nodes: 279849\n",
      "gen: 23, nodes: 229028\n",
      "gen: 24, nodes: 181102\n",
      "gen: 25, nodes: 138497\n",
      "gen: 26, nodes: 103086\n",
      "gen: 27, nodes: 73893\n",
      "gen: 28, nodes: 51833\n",
      "gen: 29, nodes: 35213\n",
      "gen: 30, nodes: 23175\n",
      "gen: 31, nodes: 14760\n",
      "gen: 32, nodes: 9020\n",
      "gen: 33, nodes: 5425\n",
      "gen: 34, nodes: 3224\n",
      "gen: 35, nodes: 1887\n",
      "gen: 36, nodes: 1079\n",
      "gen: 37, nodes: 596\n",
      "gen: 38, nodes: 297\n",
      "gen: 39, nodes: 138\n",
      "gen: 40, nodes: 48\n",
      "gen: 41, nodes: 18\n",
      "gen: 42, nodes: 3\n",
      "gen: 43, nodes: 1\n"
     ]
    }
   ],
   "source": [
    "res_uni, res_exp = s.simulate()"
   ],
   "metadata": {
    "collapsed": false,
    "pycharm": {
     "name": "#%%\n"
    }
   }
  },
  {
   "cell_type": "code",
   "execution_count": 19,
   "outputs": [
    {
     "name": "stdout",
     "output_type": "stream",
     "text": [
      "30\n",
      "45\n"
     ]
    }
   ],
   "source": [
    "print(len(res_uni[0]))\n",
    "print(len(res_exp[0]))"
   ],
   "metadata": {
    "collapsed": false,
    "pycharm": {
     "name": "#%%\n"
    }
   }
  },
  {
   "cell_type": "code",
   "execution_count": 20,
   "outputs": [
    {
     "name": "stdout",
     "output_type": "stream",
     "text": [
      "11545\n",
      "97234\n"
     ]
    }
   ],
   "source": [
    "print(np.sum(res_uni[2]))\n",
    "print(np.sum(res_exp[2]))"
   ],
   "metadata": {
    "collapsed": false,
    "pycharm": {
     "name": "#%%\n"
    }
   }
  },
  {
   "cell_type": "code",
   "execution_count": 21,
   "outputs": [
    {
     "name": "stdout",
     "output_type": "stream",
     "text": [
      "572294\n",
      "4880718\n"
     ]
    }
   ],
   "source": [
    "print(len(res_uni[1]))\n",
    "print(len(res_exp[1]))"
   ],
   "metadata": {
    "collapsed": false,
    "pycharm": {
     "name": "#%%\n"
    }
   }
  },
  {
   "cell_type": "code",
   "execution_count": 29,
   "outputs": [
    {
     "data": {
      "text/plain": "<Figure size 720x504 with 1 Axes>",
      "image/png": "[encoded data removed]"
     },
     "metadata": {
      "needs_background": "light"
     },
     "output_type": "display_data"
    }
   ],
   "source": [
    "plt.figure(figsize=(10,7))\n",
    "\n",
    "plt.hist(res_exp[1], bins=100, label='exponential')\n",
    "plt.hist(res_uni[1], bins=100, label='uniform')\n",
    "\n",
    "plt.xlabel(\"days\", fontsize=14)\n",
    "plt.ylabel(\"number of infected\", fontsize=14)\n",
    "plt.grid()\n",
    "plt.legend()\n",
    "plt.savefig(\"infected_hist.png\")\n",
    "plt.show()"
   ],
   "metadata": {
    "collapsed": false,
    "pycharm": {
     "name": "#%%\n"
    }
   }
  },
  {
   "cell_type": "code",
   "execution_count": 23,
   "outputs": [],
   "source": [
    "l_u, arr2_u = np.histogram(res_uni[1], bins=100)\n",
    "arr1_u = [0]\n",
    "arr1_u.extend(l_u)\n",
    "\n",
    "l_e, arr2_e = np.histogram(res_exp[1], bins=100)\n",
    "arr1_e = [0]\n",
    "arr1_e.extend(l_e)"
   ],
   "metadata": {
    "collapsed": false,
    "pycharm": {
     "name": "#%%\n"
    }
   }
  },
  {
   "cell_type": "code",
   "execution_count": 31,
   "outputs": [
    {
     "data": {
      "text/plain": "<Figure size 720x504 with 1 Axes>",
      "image/png": "[encoded data removed]"
     },
     "metadata": {
      "needs_background": "light"
     },
     "output_type": "display_data"
    }
   ],
   "source": [
    "plt.figure(figsize=(10,7))\n",
    "\n",
    "plt.plot(arr2_e, arr1_e, label=\"exponential\")\n",
    "plt.plot(arr2_u, arr1_u, label=\"uniform\")\n",
    "\n",
    "plt.legend()\n",
    "plt.grid()\n",
    "plt.xlabel(\"days\", fontsize=14)\n",
    "plt.ylabel(\"number of infected\", fontsize=14)\n",
    "plt.savefig(\"infected_plot.png\")\n",
    "plt.show()"
   ],
   "metadata": {
    "collapsed": false,
    "pycharm": {
     "name": "#%%\n"
    }
   }
  },
  {
   "cell_type": "code",
   "execution_count": 15,
   "outputs": [],
   "source": [
    "# 659000 infected"
   ],
   "metadata": {
    "collapsed": false,
    "pycharm": {
     "name": "#%%\n"
    }
   }
  },
  {
   "cell_type": "code",
   "execution_count": 16,
   "outputs": [],
   "source": [
    "# per simulazione seconda parte cercare di tenere lambda fisso quando raggiunge un certo valore (rho = 2)\n",
    "# mantenere rt = 1"
   ],
   "metadata": {
    "collapsed": false,
    "pycharm": {
     "name": "#%%\n"
    }
   }
  },
  {
   "cell_type": "code",
   "execution_count": null,
   "outputs": [],
   "source": [
    "# https://github.com/migmtz/hawkes-inhibition-expon/blob/main/code/hawkes_process.py\n",
    "#\n",
    "# https://www.youtube.com/watch?v=mwJXjxMTwAw\n",
    "#\n",
    "# https://www.pythonbid.com/post/pandemic-modeling-with-python-the-sir-model\n",
    "#\n",
    "# https://python.quantecon.org/sir_model.html\n",
    "#\n",
    "# to cite:\n",
    "# https://www.math.fsu.edu/~ychen/research/Thinning%20algorithm.pdf\n",
    "# https://perso.lpsm.paris/~msangnier/files/papers/spl2021.pdf\n",
    "# https://arxiv.org/pdf/1711.01679.pdf\n"
   ],
   "metadata": {
    "collapsed": false,
    "pycharm": {
     "name": "#%%\n"
    }
   }
  }
 ],
 "metadata": {
  "kernelspec": {
   "display_name": "Python 3",
   "language": "python",
   "name": "python3"
  },
  "language_info": {
   "codemirror_mode": {
    "name": "ipython",
    "version": 2
   },
   "file_extension": ".py",
   "mimetype": "text/x-python",
   "name": "python",
   "nbconvert_exporter": "python",
   "pygments_lexer": "ipython2",
   "version": "2.7.6"
  }
 },
 "nbformat": 4,
 "nbformat_minor": 0
}