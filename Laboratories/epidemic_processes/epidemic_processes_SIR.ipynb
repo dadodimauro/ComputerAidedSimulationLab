{
 "cells": [
  {
   "cell_type": "code",
   "execution_count": 17,
   "metadata": {
    "collapsed": true,
    "pycharm": {
     "name": "#%%\n"
    }
   },
   "outputs": [],
   "source": [
    "import numpy as np\n",
    "import math\n",
    "from scipy import stats\n",
    "import matplotlib.pyplot as plt"
   ]
  },
  {
   "cell_type": "code",
   "execution_count": 18,
   "outputs": [],
   "source": [
    "np.random.seed(42)"
   ],
   "metadata": {
    "collapsed": false,
    "pycharm": {
     "name": "#%%\n"
    }
   }
  },
  {
   "cell_type": "code",
   "execution_count": 19,
   "outputs": [],
   "source": [
    "def generate_ancestors(t=10, sigma=20):\n",
    "    ancestors = []\n",
    "    time = 0\n",
    "    while time <= t:\n",
    "        x = np.random.exponential(1/sigma)\n",
    "        ancestors.append(time)\n",
    "        time += x\n",
    "\n",
    "\n",
    "    return ancestors"
   ],
   "metadata": {
    "collapsed": false,
    "pycharm": {
     "name": "#%%\n"
    }
   }
  },
  {
   "cell_type": "code",
   "execution_count": 20,
   "outputs": [],
   "source": [
    "def h(t, _lambda=0.1, _type='uni'):\n",
    "    if _type == 'uni':\n",
    "        return np.random.uniform(0, 20)  # uniform [0, 20]\n",
    "    if _type == 'exp':\n",
    "        return stats.expon.rvs(t, scale=1/_lambda)  # lambda*exp{-lambda*t}"
   ],
   "metadata": {
    "collapsed": false,
    "pycharm": {
     "name": "#%%\n"
    }
   }
  },
  {
   "cell_type": "code",
   "execution_count": 21,
   "outputs": [],
   "source": [
    "def generate_taus(n, t, _lambda=0.1, _type='uni'):\n",
    "    taus = []\n",
    "    for i in range(n):\n",
    "        taus.append(h(t, _lambda=_lambda, _type=_type))\n",
    "\n",
    "    return taus"
   ],
   "metadata": {
    "collapsed": false,
    "pycharm": {
     "name": "#%%\n"
    }
   }
  },
  {
   "cell_type": "code",
   "execution_count": 22,
   "outputs": [],
   "source": [
    "class Simulator:\n",
    "    def __init__(self, n_runs, n_gen, h_type='uni'):\n",
    "        self.n_runs = n_runs\n",
    "        self.n_gen = n_gen\n",
    "\n",
    "        self.m = 2\n",
    "        self.h_type = h_type\n",
    "        self.death_prob = 0.02\n",
    "\n",
    "    def run_experiment(self, _type):\n",
    "        ancestors = generate_ancestors()\n",
    "        l = [ancestors]\n",
    "        deaths = []\n",
    "        infected = []\n",
    "\n",
    "        for i in range(self.n_gen):\n",
    "            death = np.random.random(size=len(l[i]))\n",
    "            death = death[death < self.death_prob]\n",
    "            deaths.append(len(death))\n",
    "\n",
    "            nodes_i = []\n",
    "            for parents_time in l[i]:\n",
    "                infected.append(parents_time)\n",
    "\n",
    "                rho = 1\n",
    "                if parents_time > 20:\n",
    "                    rho = .7\n",
    "\n",
    "                n = stats.poisson.rvs(self.m * rho)  # generate children\n",
    "\n",
    "                taus = generate_taus(n, parents_time, _type=_type)\n",
    "                t_w = np.array(taus) + parents_time\n",
    "\n",
    "                # not add childs above time threshold\n",
    "\n",
    "                nodes_i.extend(t_w[t_w < self.n_gen])\n",
    "\n",
    "            l.append(nodes_i)\n",
    "            if len(nodes_i) == 0:  # exit if process is extinct\n",
    "                break\n",
    "\n",
    "\n",
    "        return l, infected, deaths\n",
    "\n",
    "    def plot(self):\n",
    "        pass\n",
    "\n",
    "    def simulate(self, n_runs=1):\n",
    "\n",
    "        res_uni = self.run_experiment(_type='uni')\n",
    "        res_exp = self.run_experiment(_type='exp')\n",
    "\n",
    "        return res_uni, res_exp"
   ],
   "metadata": {
    "collapsed": false,
    "pycharm": {
     "name": "#%%\n"
    }
   }
  },
  {
   "cell_type": "code",
   "execution_count": 23,
   "outputs": [],
   "source": [
    "s = Simulator(1, 100)"
   ],
   "metadata": {
    "collapsed": false,
    "pycharm": {
     "name": "#%%\n"
    }
   }
  },
  {
   "cell_type": "code",
   "execution_count": 25,
   "outputs": [],
   "source": [
    "res_uni, res_exp = s.simulate()"
   ],
   "metadata": {
    "collapsed": false,
    "pycharm": {
     "name": "#%%\n"
    }
   }
  },
  {
   "cell_type": "code",
   "execution_count": 26,
   "outputs": [
    {
     "name": "stdout",
     "output_type": "stream",
     "text": [
      "23\n",
      "7\n"
     ]
    }
   ],
   "source": [
    "print(len(res_uni[0]))\n",
    "print(len(res_exp[0]))"
   ],
   "metadata": {
    "collapsed": false,
    "pycharm": {
     "name": "#%%\n"
    }
   }
  },
  {
   "cell_type": "code",
   "execution_count": 27,
   "outputs": [
    {
     "name": "stdout",
     "output_type": "stream",
     "text": [
      "800\n",
      "31\n"
     ]
    }
   ],
   "source": [
    "print(np.sum(res_uni[2]))\n",
    "print(np.sum(res_exp[2]))"
   ],
   "metadata": {
    "collapsed": false,
    "pycharm": {
     "name": "#%%\n"
    }
   }
  },
  {
   "cell_type": "code",
   "execution_count": 28,
   "outputs": [
    {
     "name": "stdout",
     "output_type": "stream",
     "text": [
      "39417\n",
      "2162\n"
     ]
    }
   ],
   "source": [
    "print(len(res_uni[1]))\n",
    "print(len(res_exp[1]))"
   ],
   "metadata": {
    "collapsed": false,
    "pycharm": {
     "name": "#%%\n"
    }
   }
  },
  {
   "cell_type": "code",
   "execution_count": 29,
   "outputs": [
    {
     "data": {
      "text/plain": "<Figure size 720x504 with 1 Axes>",
      "image/png": "[encoded data removed]"
     },
     "metadata": {
      "needs_background": "light"
     },
     "output_type": "display_data"
    }
   ],
   "source": [
    "plt.figure(figsize=(10,7))\n",
    "plt.hist(res_uni[1], bins=100, label='uniform')\n",
    "plt.hist(res_exp[1], bins=100, label='exponential')\n",
    "\n",
    "plt.xlabel(\"days\")\n",
    "plt.ylabel(\"number of infected\")\n",
    "plt.grid()\n",
    "plt.legend()\n",
    "plt.show()"
   ],
   "metadata": {
    "collapsed": false,
    "pycharm": {
     "name": "#%%\n"
    }
   }
  },
  {
   "cell_type": "code",
   "execution_count": 30,
   "outputs": [],
   "source": [
    "l_u, arr2_u = np.histogram(res_uni[1], bins=100)\n",
    "arr1_u = [0]\n",
    "arr1_u.extend(l_u)\n",
    "\n",
    "l_e, arr2_e = np.histogram(res_exp[1], bins=100)\n",
    "arr1_e = [0]\n",
    "arr1_e.extend(l_e)"
   ],
   "metadata": {
    "collapsed": false,
    "pycharm": {
     "name": "#%%\n"
    }
   }
  },
  {
   "cell_type": "code",
   "execution_count": 31,
   "outputs": [
    {
     "data": {
      "text/plain": "<Figure size 720x504 with 1 Axes>",
      "image/png": "[encoded data removed]"
     },
     "metadata": {
      "needs_background": "light"
     },
     "output_type": "display_data"
    }
   ],
   "source": [
    "plt.figure(figsize=(10,7))\n",
    "\n",
    "plt.plot(arr2_u, arr1_u, label=\"uniform\")\n",
    "plt.plot(arr2_e, arr1_e, label=\"exponential\")\n",
    "\n",
    "plt.legend()\n",
    "plt.grid()\n",
    "plt.show()"
   ],
   "metadata": {
    "collapsed": false,
    "pycharm": {
     "name": "#%%\n"
    }
   }
  },
  {
   "cell_type": "code",
   "execution_count": null,
   "outputs": [],
   "source": [
    "# 659000 infected"
   ],
   "metadata": {
    "collapsed": false,
    "pycharm": {
     "name": "#%%\n"
    }
   }
  },
  {
   "cell_type": "code",
   "execution_count": null,
   "outputs": [],
   "source": [
    "# per simulazione seconda parte cercare di tenere lambda fisso quando raggiunge un certo valore (rho = 2)\n",
    "# mantenere rt = 1"
   ],
   "metadata": {
    "collapsed": false,
    "pycharm": {
     "name": "#%%\n"
    }
   }
  },
  {
   "cell_type": "code",
   "execution_count": null,
   "outputs": [],
   "source": [
    "def sigma(t):\n",
    "    if 0 <= t <= 10:\n",
    "        return 20\n",
    "    else:\n",
    "        return 0\n",
    "\n",
    "m = 2"
   ],
   "metadata": {
    "collapsed": false,
    "pycharm": {
     "name": "#%%\n"
    }
   }
  },
  {
   "cell_type": "code",
   "execution_count": null,
   "outputs": [],
   "source": [
    "def intensity(Ts):"
   ],
   "metadata": {
    "collapsed": false,
    "pycharm": {
     "name": "#%%\n"
    }
   }
  },
  {
   "cell_type": "code",
   "execution_count": null,
   "outputs": [],
   "source": [
    "def test(_lambda, T, m=2):\n",
    "    Ts = []\n",
    "    s = 0\n",
    "    n = 0\n",
    "\n",
    "    while s < T:\n",
    "        _lambda_hat = intensity()"
   ],
   "metadata": {
    "collapsed": false,
    "pycharm": {
     "name": "#%%\n"
    }
   }
  },
  {
   "cell_type": "code",
   "execution_count": 6,
   "outputs": [],
   "source": [
    " def generate_seq(horizon, mu, alpha, omega, dim):\n",
    "    '''Generate a sequence based on mu, alpha, omega values.\n",
    "    Uses Ogata's thinning method, with some speedups, noted below'''\n",
    "\n",
    "    data = []  # clear history\n",
    "\n",
    "    Istar = np.sum(mu)\n",
    "    s = np.random.exponential(scale=1./Istar)\n",
    "\n",
    "    # attribute (weighted random sample, since sum(mu)==Istar)\n",
    "    n0 = np.random.choice(np.arange(dim),\n",
    "                          1,\n",
    "                          p=(mu / Istar))\n",
    "    data.append([s, n0])\n",
    "\n",
    "    # value of \\lambda(t_k) where k is most recent event\n",
    "    # starts with just the base rate\n",
    "    lastrates = mu.copy()\n",
    "\n",
    "    decIstar = False\n",
    "    while True:\n",
    "        tj, uj = data[-1][0], int(data[-1][1])\n",
    "\n",
    "        if decIstar:\n",
    "            # if last event was rejected, decrease Istar\n",
    "            Istar = np.sum(rates)\n",
    "            decIstar = False\n",
    "        else:\n",
    "            # otherwise, we just had an event, so recalc Istar (inclusive of last event)\n",
    "            Istar = np.sum(lastrates) + omega * np.sum(alpha[:,uj])\n",
    "\n",
    "        # generate new event\n",
    "        s += np.random.exponential(scale=1./Istar)\n",
    "\n",
    "        # calc rates at time s (use trick to take advantage of rates at last event)\n",
    "        rates = mu + np.exp(-omega * (s - tj)) * (alpha[:,uj].flatten() * omega + lastrates - mu)\n",
    "\n",
    "        # attribution/rejection test\n",
    "        # handle attribution and thinning in one step as weighted random sample\n",
    "        diff = Istar - np.sum(rates)\n",
    "        try:\n",
    "            n0 = np.random.choice(np.arange(dim+1), 1,\n",
    "                                  p=(np.append(rates, diff) / Istar))\n",
    "        except ValueError:\n",
    "            # by construction this should not happen\n",
    "            print('Probabilities do not sum to one.')\n",
    "            data = np.array(data)\n",
    "            return data\n",
    "\n",
    "        if n0 < dim:\n",
    "            data.append([s, n0])\n",
    "            # update lastrates\n",
    "            lastrates = rates.copy()\n",
    "        else:\n",
    "            decIstar = True\n",
    "\n",
    "        # if past horizon, done\n",
    "        if s >= horizon:\n",
    "            data = np.array(data)\n",
    "            data = data[data[:,0] < horizon]\n",
    "            return data"
   ],
   "metadata": {
    "collapsed": false,
    "pycharm": {
     "name": "#%%\n"
    }
   }
  },
  {
   "cell_type": "code",
   "execution_count": 14,
   "outputs": [
    {
     "name": "stderr",
     "output_type": "stream",
     "text": [
      "C:\\Users\\david\\AppData\\Local\\Temp\\ipykernel_4252\\3938764226.py:59: VisibleDeprecationWarning: Creating an ndarray from ragged nested sequences (which is a list-or-tuple of lists-or-tuples-or ndarrays with different lengths or shapes) is deprecated. If you meant to do this, you must specify 'dtype=object' when creating the ndarray.\n",
      "  data = np.array(data)\n"
     ]
    },
    {
     "data": {
      "text/plain": "array([[0.043136590968524256, array([0])],\n       [0.35152810369724724, array([0])],\n       [0.6783603179300973, array([0])],\n       [0.7817526036333347, array([0])],\n       [0.8730666200840395, array([0])],\n       [1.0700432053740825, array([0])],\n       [1.4132162118015819, array([0])],\n       [1.6582636628305016, array([0])],\n       [2.1232779443720253, array([0])],\n       [2.4726405009322243, array([0])],\n       [2.5798762859903026, array([0])],\n       [2.6739954292521104, array([0])],\n       [2.7490149397876236, array([0])],\n       [2.885430257428244, array([0])],\n       [3.283561231446055, array([0])],\n       [3.571151130588637, array([0])],\n       [4.525049865311283, array([0])],\n       [4.820860476924101, array([0])],\n       [5.189895838086588, array([0])],\n       [5.447401315381586, array([0])],\n       [5.715577530508283, array([0])],\n       [7.909115292438953, array([0])],\n       [8.209588951104898, array([0])],\n       [8.27854978135436, array([0])],\n       [8.621046156776641, array([0])],\n       [9.10374993893314, array([0])],\n       [9.252592524245669, array([0])],\n       [9.63241504513037, array([0])],\n       [9.69649438540842, array([0])],\n       [10.513707769405878, array([0])],\n       [11.297856540942671, array([0])],\n       [11.316337694151292, array([0])],\n       [11.555049360183299, array([0])],\n       [12.563875799410763, array([0])],\n       [13.251439846399583, array([0])],\n       [13.409614930325962, array([0])],\n       [13.906408891711914, array([0])],\n       [14.181490755699226, array([0])],\n       [14.86186906199201, array([0])],\n       [14.93972940834057, array([0])],\n       [15.993987618023143, array([0])],\n       [16.707686716504032, array([0])],\n       [17.20968505774383, array([0])],\n       [18.377400190668315, array([0])],\n       [19.246256594819407, array([0])],\n       [19.497564703194392, array([0])],\n       [19.84360782102589, array([0])],\n       [21.36272930313492, array([0])],\n       [21.505410455785103, array([0])],\n       [21.768858120303047, array([0])],\n       [21.805883916758994, array([0])],\n       [21.822941970318272, array([0])],\n       [22.229847059333203, array([0])],\n       [23.076706915188996, array([0])],\n       [23.2545643378893, array([0])],\n       [23.292060012772744, array([0])],\n       [23.618873273850337, array([0])],\n       [23.797310812697877, array([0])],\n       [24.328410009195576, array([0])],\n       [24.44369756208054, array([0])],\n       [24.69250069205881, array([0])],\n       [25.236317998331412, array([0])],\n       [25.61725081417074, array([0])],\n       [25.833638535278034, array([0])],\n       [25.93465470140883, array([0])],\n       [26.139939503464852, array([0])],\n       [26.182237149884887, array([0])],\n       [26.49978160001987, array([0])],\n       [27.071400331598632, array([0])],\n       [27.160886838848974, array([0])],\n       [27.24078563642509, array([0])],\n       [28.61546285953878, array([0])],\n       [29.10711843260566, array([0])],\n       [29.247076566977295, array([0])],\n       [29.690986337260714, array([0])],\n       [30.223859004566272, array([0])],\n       [31.375936962584944, array([0])],\n       [32.87108709068819, array([0])],\n       [34.29696117329052, array([0])],\n       [34.329028593623825, array([0])],\n       [34.666517642930096, array([0])],\n       [34.68433271373016, array([0])],\n       [34.99942091894482, array([0])],\n       [36.1936756230667, array([0])],\n       [36.67953083514881, array([0])],\n       [37.16820791412077, array([0])],\n       [37.36376570797163, array([0])],\n       [37.79182334911901, array([0])],\n       [38.01625503056308, array([0])],\n       [38.19739329192, array([0])],\n       [39.27152880422843, array([0])],\n       [39.27605159790091, array([0])],\n       [40.64105591018559, array([0])],\n       [42.16998060848074, array([0])],\n       [42.73419070524753, array([0])],\n       [42.922786408882146, array([0])],\n       [43.1260859889865, array([0])],\n       [43.85008248464824, array([0])],\n       [44.20317587443782, array([0])],\n       [44.47932474364816, array([0])],\n       [44.81869728413109, array([0])],\n       [44.95383931841418, array([0])],\n       [45.45005330623384, array([0])],\n       [45.8654679438387, array([0])],\n       [46.326179027044205, array([0])],\n       [46.44986516634105, array([0])],\n       [46.70713660156575, array([0])],\n       [48.087754981093184, array([0])],\n       [48.59932441372652, array([0])],\n       [48.6982618762121, array([0])],\n       [49.04263182426135, array([0])],\n       [49.51450021489161, array([0])],\n       [49.6993568680956, array([0])],\n       [49.712256486806695, array([0])],\n       [49.72564585122582, array([0])],\n       [49.76560506003831, array([0])],\n       [50.14431227836358, array([0])],\n       [50.900209599577025, array([0])],\n       [50.95678323900976, array([0])],\n       [52.53380482320351, array([0])],\n       [52.97571823587928, array([0])],\n       [53.19951697038728, array([0])],\n       [53.393096288603964, array([0])],\n       [54.80410146745723, array([0])],\n       [54.996414846723745, array([0])],\n       [56.166747959928415, array([0])],\n       [56.52060027857763, array([0])],\n       [58.92232400806942, array([0])],\n       [59.31777717485739, array([0])],\n       [61.204667991030874, array([0])],\n       [61.4430566465191, array([0])],\n       [62.19374013699223, array([0])],\n       [63.24744091043962, array([0])],\n       [63.788904373578895, array([0])],\n       [64.51788786952268, array([0])],\n       [65.3150945295678, array([0])],\n       [65.84614088978893, array([0])],\n       [66.10859640747111, array([0])],\n       [67.54533051939, array([0])],\n       [68.18357622075166, array([0])],\n       [69.03847050827308, array([0])],\n       [69.31222267699447, array([0])],\n       [69.6187868978471, array([0])],\n       [71.99892797469207, array([0])],\n       [72.48640823717214, array([0])],\n       [73.4733983423658, array([0])],\n       [73.5015489957171, array([0])],\n       [73.86955505668041, array([0])],\n       [74.38191235999847, array([0])],\n       [75.07143772591873, array([0])],\n       [75.17916426950941, array([0])],\n       [75.89111423281095, array([0])],\n       [76.63730679039408, array([0])],\n       [78.21065833409085, array([0])],\n       [78.24208309120903, array([0])],\n       [78.72947646961201, array([0])],\n       [79.7616699507365, array([0])],\n       [79.80048390037358, array([0])],\n       [80.02761718731998, array([0])],\n       [80.68524085954552, array([0])],\n       [80.93896366237995, array([0])],\n       [81.25420104270643, array([0])],\n       [81.68299219873718, array([0])],\n       [82.09854291589815, array([0])],\n       [82.45649961057337, array([0])],\n       [82.53102450222376, array([0])],\n       [82.55115727490058, array([0])],\n       [82.6655662698237, array([0])],\n       [82.850702190435, array([0])],\n       [82.89960120747271, array([0])],\n       [82.90135219956989, array([0])],\n       [83.48777417351621, array([0])],\n       [83.90059851835458, array([0])],\n       [83.9056869627963, array([0])],\n       [84.15061675247885, array([0])],\n       [84.28502062559207, array([0])],\n       [84.91235944617095, array([0])],\n       [85.01591098493408, array([0])],\n       [85.03223739553668, array([0])],\n       [85.15193453397103, array([0])],\n       [85.15640736421793, array([0])],\n       [85.90057801760078, array([0])],\n       [86.1437772769507, array([0])],\n       [86.4112609274668, array([0])],\n       [86.68695907083962, array([0])],\n       [86.73821025019461, array([0])],\n       [86.75800059359833, array([0])],\n       [87.20975088403645, array([0])],\n       [87.2933390525898, array([0])],\n       [87.59038054871682, array([0])],\n       [88.06040119536895, array([0])],\n       [88.25444649541717, array([0])],\n       [89.69068911550485, array([0])],\n       [89.7252110743307, array([0])],\n       [90.29964008114719, array([0])],\n       [90.73494768385999, array([0])],\n       [90.75305925622047, array([0])],\n       [90.92272307155046, array([0])],\n       [92.33820689544007, array([0])],\n       [93.27028137874912, array([0])],\n       [93.79394571797675, array([0])],\n       [93.92418409735895, array([0])],\n       [94.50582684931221, array([0])],\n       [94.73238140628875, array([0])],\n       [95.94351456167726, array([0])],\n       [95.94770371888819, array([0])],\n       [96.18380587263253, array([0])],\n       [96.39994570451024, array([0])],\n       [96.85971938706739, array([0])],\n       [97.51815477820725, array([0])],\n       [97.54670682464047, array([0])],\n       [97.54786794225423, array([0])],\n       [97.94837648783354, array([0])],\n       [98.39848042836935, array([0])],\n       [98.75145249523857, array([0])],\n       [98.99848142209439, array([0])],\n       [99.64848117337766, array([0])],\n       [99.91178858644113, array([0])]], dtype=object)"
     },
     "execution_count": 14,
     "metadata": {},
     "output_type": "execute_result"
    }
   ],
   "source": [
    "alpha=[[0.1]]\n",
    "mu=[2]\n",
    "omega=1.0\n",
    "\n",
    "alpha, mu, omega = np.array(alpha), np.array(mu), omega\n",
    "dim = mu.shape[0]\n",
    "\n",
    "generate_seq(100, alpha=alpha, mu=mu, omega=omega, dim=dim)"
   ],
   "metadata": {
    "collapsed": false,
    "pycharm": {
     "name": "#%%\n"
    }
   }
  },
  {
   "cell_type": "code",
   "execution_count": 16,
   "outputs": [
    {
     "data": {
      "text/plain": "<Figure size 432x288 with 1 Axes>",
      "image/png": "[encoded data removed]"
     },
     "metadata": {
      "needs_background": "light"
     },
     "output_type": "display_data"
    }
   ],
   "source": [
    "from scipy.integrate import odeint\n",
    "import numpy as np\n",
    "import matplotlib.pyplot as plt\n",
    "\n",
    "# DEFINE CONSTANTS\n",
    "a = 1 # infection rate\n",
    "b = 1/14 # recovery rate\n",
    "\n",
    "# FUNCTION TO RETURN DERIVATIVES AT T\n",
    "def f(y,t):\n",
    "    S, I, _ = y # get previous values of S, I, R and store them in array y\n",
    "    d0 = -a*S*I # derivative of S(t)\n",
    "    d1 = a*S*I - b*I # derivative of I(t)\n",
    "    d2 = b*I # derivative of R(t)\n",
    "\n",
    "    return [d0, d1, d2]\n",
    "\n",
    "# INITIAL VALUES OF EACH FUNCTION\n",
    "S_0 = 1\n",
    "I_0 = 3.125/(10**6)\n",
    "R_0 = 0\n",
    "y_0 = [S_0,I_0,R_0]\n",
    "\n",
    "t = np.linspace(start=1,stop=100,num=100)\n",
    "y = odeint(f,y_0,t)\n",
    "\n",
    "S = y[:,0]\n",
    "I = y[:,1]\n",
    "R = y[:,2]\n",
    "\n",
    "plt.figure()\n",
    "plt.plot(t,S,\"r\",label=\"S(t)\")\n",
    "plt.plot(t,I,'b',label=\"I(t)\")\n",
    "plt.plot(t,R,'g',label=\"R(t)\")\n",
    "plt.legend()\n",
    "plt.show()"
   ],
   "metadata": {
    "collapsed": false,
    "pycharm": {
     "name": "#%%\n"
    }
   }
  }
 ],
 "metadata": {
  "kernelspec": {
   "display_name": "Python 3",
   "language": "python",
   "name": "python3"
  },
  "language_info": {
   "codemirror_mode": {
    "name": "ipython",
    "version": 2
   },
   "file_extension": ".py",
   "mimetype": "text/x-python",
   "name": "python",
   "nbconvert_exporter": "python",
   "pygments_lexer": "ipython2",
   "version": "2.7.6"
  }
 },
 "nbformat": 4,
 "nbformat_minor": 0
}