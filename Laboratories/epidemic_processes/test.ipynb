{
 "cells": [
  {
   "cell_type": "code",
   "execution_count": 24,
   "metadata": {
    "collapsed": true,
    "pycharm": {
     "name": "#%%\n"
    }
   },
   "outputs": [],
   "source": [
    "import numpy as np\n",
    "import math\n",
    "from scipy import stats\n",
    "import matplotlib.pyplot as plt"
   ]
  },
  {
   "cell_type": "code",
   "execution_count": 25,
   "outputs": [],
   "source": [
    "np.random.seed(42)"
   ],
   "metadata": {
    "collapsed": false,
    "pycharm": {
     "name": "#%%\n"
    }
   }
  },
  {
   "cell_type": "code",
   "execution_count": 26,
   "outputs": [],
   "source": [
    "def generate_ancestors(t=10, sigma=20):\n",
    "    ancestors = []\n",
    "    time = 0\n",
    "    while time <= t:\n",
    "        x = np.random.exponential(1/sigma)\n",
    "        ancestors.append(time)\n",
    "        time += x\n",
    "\n",
    "\n",
    "    return ancestors"
   ],
   "metadata": {
    "collapsed": false,
    "pycharm": {
     "name": "#%%\n"
    }
   }
  },
  {
   "cell_type": "code",
   "execution_count": 27,
   "outputs": [],
   "source": [
    "def h(n, _lambda=0.1, _type='uni'):\n",
    "    if _type == 'uni':\n",
    "        return np.random.uniform(0, 20, size=n)  # uniform [0, 20]\n",
    "    if _type == 'exp':\n",
    "        # return stats.expon.rvs(scale=1/_lambda, size=n)  # lambda*exp{-lambda*t}\n",
    "        return np.random.exponential(1/_lambda, size=n)"
   ],
   "metadata": {
    "collapsed": false,
    "pycharm": {
     "name": "#%%\n"
    }
   }
  },
  {
   "cell_type": "code",
   "execution_count": 28,
   "outputs": [],
   "source": [
    "def generate_taus(n, t, _lambda=0.1, _type='uni'):\n",
    "    taus = []\n",
    "    for i in range(n):\n",
    "        taus.append(h(t, _lambda=_lambda, _type=_type))\n",
    "\n",
    "    return taus"
   ],
   "metadata": {
    "collapsed": false,
    "pycharm": {
     "name": "#%%\n"
    }
   }
  },
  {
   "cell_type": "code",
   "execution_count": 29,
   "outputs": [],
   "source": [
    "def rho(deaths):\n",
    "    x = deaths\n",
    "\n",
    "    rho = math.log(1+0.1*x) / 4\n",
    "    if rho == 0:\n",
    "        rho = 1\n",
    "    return rho"
   ],
   "metadata": {
    "collapsed": false,
    "pycharm": {
     "name": "#%%\n"
    }
   }
  },
  {
   "cell_type": "code",
   "execution_count": 30,
   "outputs": [],
   "source": [
    "class Simulator:\n",
    "    def __init__(self, n_runs, n_gen, h_type='uni'):\n",
    "        self.n_runs = n_runs\n",
    "        self.n_gen = n_gen\n",
    "\n",
    "        self.m = 2\n",
    "        self.h_type = h_type\n",
    "        self.death_prob = 0.02\n",
    "\n",
    "    def run_experiment(self, _type):\n",
    "        ancestors = generate_ancestors()\n",
    "        l = [ancestors]\n",
    "        deaths = []\n",
    "        infected = []\n",
    "\n",
    "        d = dict()\n",
    "        for i in range(self.n_gen):\n",
    "            d[i] = 0\n",
    "\n",
    "        for i in range(self.n_gen):\n",
    "            print(f\"gen: {i}, nodes: {len(l[i])}\")\n",
    "            death = np.random.random(size=len(l[i]))\n",
    "            death = death[death < self.death_prob]\n",
    "            deaths.append(len(death))\n",
    "            for _d in death:\n",
    "                d[math.floor(_d)] += 1\n",
    "\n",
    "            nodes_i = []\n",
    "            for parents_time in l[i]:\n",
    "                infected.append(parents_time)\n",
    "\n",
    "                r = 1\n",
    "                if parents_time >= 20:\n",
    "                    # r = rho(0, np.sum(deaths), len(l[i]))\n",
    "                    r = rho(d[math.floor(parents_time)])\n",
    "\n",
    "                # n = stats.poisson.rvs(self.m * r)  # generate children\n",
    "                n = stats.poisson.rvs(self.m / r)\n",
    "\n",
    "                # taus = generate_taus(n, parents_time, _type=_type)\n",
    "                taus = h(n, _type=_type)\n",
    "                t_w = np.array(taus) + parents_time\n",
    "\n",
    "                # not add childs above time threshold\n",
    "                # t_w = t_w[t_w < self.n_gen]\n",
    "\n",
    "                nodes_i.extend(t_w[t_w < self.n_gen])\n",
    "\n",
    "            l.append(nodes_i)\n",
    "            if len(nodes_i) == 0:  # exit if process is extinct\n",
    "                break\n",
    "\n",
    "\n",
    "        return l, infected, deaths, d\n",
    "\n",
    "    def plot(self):\n",
    "        pass\n",
    "\n",
    "    def simulate(self, n_runs=1):\n",
    "\n",
    "        res_uni = self.run_experiment(_type='uni')\n",
    "        res_exp = self.run_experiment(_type='exp')\n",
    "\n",
    "        return res_uni, res_exp"
   ],
   "metadata": {
    "collapsed": false,
    "pycharm": {
     "name": "#%%\n"
    }
   }
  },
  {
   "cell_type": "code",
   "execution_count": 31,
   "outputs": [],
   "source": [
    "s = Simulator(1, 100)"
   ],
   "metadata": {
    "collapsed": false,
    "pycharm": {
     "name": "#%%\n"
    }
   }
  },
  {
   "cell_type": "code",
   "execution_count": 9,
   "outputs": [
    {
     "name": "stdout",
     "output_type": "stream",
     "text": [
      "gen: 0, nodes: 217\n",
      "gen: 1, nodes: 418\n",
      "gen: 2, nodes: 854\n",
      "gen: 3, nodes: 1709\n",
      "gen: 4, nodes: 3498\n",
      "gen: 5, nodes: 6971\n",
      "gen: 6, nodes: 14052\n",
      "gen: 7, nodes: 26875\n",
      "gen: 8, nodes: 46287\n",
      "gen: 9, nodes: 69704\n",
      "gen: 10, nodes: 90784\n",
      "gen: 11, nodes: 102327\n",
      "gen: 12, nodes: 100917\n",
      "gen: 13, nodes: 88972\n",
      "gen: 14, nodes: 70781\n",
      "gen: 15, nodes: 50791\n",
      "gen: 16, nodes: 33559\n",
      "gen: 17, nodes: 20293\n",
      "gen: 18, nodes: 11319\n",
      "gen: 19, nodes: 5785\n",
      "gen: 20, nodes: 2815\n",
      "gen: 21, nodes: 1289\n",
      "gen: 22, nodes: 576\n",
      "gen: 23, nodes: 258\n",
      "gen: 24, nodes: 119\n",
      "gen: 25, nodes: 37\n",
      "gen: 26, nodes: 12\n",
      "gen: 27, nodes: 3\n",
      "gen: 0, nodes: 212\n",
      "gen: 1, nodes: 418\n",
      "gen: 2, nodes: 854\n",
      "gen: 3, nodes: 1676\n",
      "gen: 4, nodes: 3316\n",
      "gen: 5, nodes: 6559\n",
      "gen: 6, nodes: 12360\n",
      "gen: 7, nodes: 22555\n",
      "gen: 8, nodes: 39177\n",
      "gen: 9, nodes: 65917\n",
      "gen: 10, nodes: 104753\n",
      "gen: 11, nodes: 156479\n",
      "gen: 12, nodes: 220112\n",
      "gen: 13, nodes: 291247\n",
      "gen: 14, nodes: 363929\n",
      "gen: 15, nodes: 429476\n",
      "gen: 16, nodes: 481452\n",
      "gen: 17, nodes: 512795\n",
      "gen: 18, nodes: 518507\n",
      "gen: 19, nodes: 499831\n",
      "gen: 20, nodes: 459034\n",
      "gen: 21, nodes: 401826\n",
      "gen: 22, nodes: 336269\n",
      "gen: 23, nodes: 269818\n",
      "gen: 24, nodes: 208336\n",
      "gen: 25, nodes: 155908\n",
      "gen: 26, nodes: 112843\n",
      "gen: 27, nodes: 78227\n",
      "gen: 28, nodes: 52792\n",
      "gen: 29, nodes: 34165\n",
      "gen: 30, nodes: 21684\n",
      "gen: 31, nodes: 13329\n",
      "gen: 32, nodes: 7995\n",
      "gen: 33, nodes: 4785\n",
      "gen: 34, nodes: 2694\n",
      "gen: 35, nodes: 1416\n",
      "gen: 36, nodes: 750\n",
      "gen: 37, nodes: 431\n",
      "gen: 38, nodes: 236\n",
      "gen: 39, nodes: 118\n",
      "gen: 40, nodes: 63\n",
      "gen: 41, nodes: 28\n",
      "gen: 42, nodes: 17\n",
      "gen: 43, nodes: 3\n",
      "gen: 44, nodes: 1\n",
      "gen: 45, nodes: 1\n",
      "gen: 0, nodes: 217\n",
      "gen: 1, nodes: 418\n",
      "gen: 2, nodes: 854\n",
      "gen: 3, nodes: 1709\n",
      "gen: 4, nodes: 3498\n",
      "gen: 5, nodes: 6971\n",
      "gen: 6, nodes: 14052\n",
      "gen: 7, nodes: 26875\n",
      "gen: 8, nodes: 46287\n",
      "gen: 9, nodes: 69704\n",
      "gen: 10, nodes: 90784\n",
      "gen: 11, nodes: 102327\n",
      "gen: 12, nodes: 100917\n",
      "gen: 13, nodes: 88972\n",
      "gen: 14, nodes: 70781\n",
      "gen: 15, nodes: 50791\n",
      "gen: 16, nodes: 33559\n",
      "gen: 17, nodes: 20293\n",
      "gen: 18, nodes: 11319\n",
      "gen: 19, nodes: 5785\n",
      "gen: 20, nodes: 2815\n",
      "gen: 21, nodes: 1289\n",
      "gen: 22, nodes: 576\n",
      "gen: 23, nodes: 258\n",
      "gen: 24, nodes: 119\n",
      "gen: 25, nodes: 37\n",
      "gen: 26, nodes: 12\n",
      "gen: 27, nodes: 3\n",
      "gen: 0, nodes: 212\n",
      "gen: 1, nodes: 418\n",
      "gen: 2, nodes: 854\n",
      "gen: 3, nodes: 1676\n",
      "gen: 4, nodes: 3316\n",
      "gen: 5, nodes: 6559\n",
      "gen: 6, nodes: 12360\n",
      "gen: 7, nodes: 22555\n",
      "gen: 8, nodes: 39177\n",
      "gen: 9, nodes: 65917\n",
      "gen: 10, nodes: 104753\n",
      "gen: 11, nodes: 156479\n",
      "gen: 12, nodes: 220112\n",
      "gen: 13, nodes: 291247\n"
     ]
    }
   ],
   "source": [
    "res_uni, res_exp = s.simulate()"
   ],
   "metadata": {
    "collapsed": false,
    "pycharm": {
     "name": "#%%\n"
    }
   }
  },
  {
   "cell_type": "code",
   "execution_count": 10,
   "outputs": [
    {
     "name": "stdout",
     "output_type": "stream",
     "text": [
      "29\n",
      "47\n"
     ]
    }
   ],
   "source": [
    "print(len(res_uni[0]))\n",
    "print(len(res_exp[0]))"
   ],
   "metadata": {
    "collapsed": false,
    "pycharm": {
     "name": "#%%\n"
    }
   }
  },
  {
   "cell_type": "code",
   "execution_count": 11,
   "outputs": [
    {
     "name": "stdout",
     "output_type": "stream",
     "text": [
      "15226\n",
      "117617\n"
     ]
    }
   ],
   "source": [
    "print(np.sum(res_uni[2]))\n",
    "print(np.sum(res_exp[2]))"
   ],
   "metadata": {
    "collapsed": false,
    "pycharm": {
     "name": "#%%\n"
    }
   }
  },
  {
   "cell_type": "code",
   "execution_count": 12,
   "outputs": [
    {
     "name": "stdout",
     "output_type": "stream",
     "text": [
      "751222\n",
      "5894394\n"
     ]
    }
   ],
   "source": [
    "print(len(res_uni[1]))\n",
    "print(len(res_exp[1]))"
   ],
   "metadata": {
    "collapsed": false,
    "pycharm": {
     "name": "#%%\n"
    }
   }
  },
  {
   "cell_type": "code",
   "execution_count": 13,
   "outputs": [
    {
     "data": {
      "text/plain": "<Figure size 720x504 with 1 Axes>",
      "image/png": "[encoded data removed]"
     },
     "metadata": {
      "needs_background": "light"
     },
     "output_type": "display_data"
    }
   ],
   "source": [
    "plt.figure(figsize=(10,7))\n",
    "\n",
    "plt.hist(res_exp[1], bins=100, label='exponential')\n",
    "plt.hist(res_uni[1], bins=100, label='uniform')\n",
    "\n",
    "plt.xlabel(\"days\", fontsize=14)\n",
    "plt.ylabel(\"number of infected\", fontsize=14)\n",
    "plt.grid()\n",
    "plt.legend()\n",
    "# plt.savefig(\"infected_hist.png\")\n",
    "plt.show()"
   ],
   "metadata": {
    "collapsed": false,
    "pycharm": {
     "name": "#%%\n"
    }
   }
  },
  {
   "cell_type": "code",
   "execution_count": 14,
   "outputs": [],
   "source": [
    "l_u, arr2_u = np.histogram(res_uni[1], bins=100)\n",
    "arr1_u = [0]\n",
    "arr1_u.extend(l_u)\n",
    "\n",
    "l_e, arr2_e = np.histogram(res_exp[1], bins=100)\n",
    "arr1_e = [0]\n",
    "arr1_e.extend(l_e)"
   ],
   "metadata": {
    "collapsed": false,
    "pycharm": {
     "name": "#%%\n"
    }
   }
  },
  {
   "cell_type": "code",
   "execution_count": 15,
   "outputs": [],
   "source": [
    "l_u, arr4_u = np.histogram(res_uni[1], bins=100)\n",
    "arr3_u = [0]\n",
    "arr3_u.extend(l_u)\n",
    "\n",
    "l_e, arr4_e = np.histogram(res_exp[1], bins=100)\n",
    "arr3_e = [0]\n",
    "arr3_e.extend(l_e)"
   ],
   "metadata": {
    "collapsed": false,
    "pycharm": {
     "name": "#%%\n"
    }
   }
  },
  {
   "cell_type": "code",
   "execution_count": 16,
   "outputs": [
    {
     "data": {
      "text/plain": "<Figure size 720x504 with 1 Axes>",
      "image/png": "[encoded data removed]"
     },
     "metadata": {
      "needs_background": "light"
     },
     "output_type": "display_data"
    }
   ],
   "source": [
    "plt.figure(figsize=(10,7))\n",
    "\n",
    "plt.plot(arr2_e, arr1_e, label=\"exponential\")\n",
    "plt.plot(arr2_u, arr1_u, label=\"uniform\")\n",
    "\n",
    "\n",
    "plt.legend()\n",
    "plt.grid()\n",
    "plt.xlabel(\"days\", fontsize=14)\n",
    "plt.ylabel(\"number of infected\", fontsize=14)\n",
    "# plt.savefig(\"infected_plot.png\")\n",
    "plt.show()"
   ],
   "metadata": {
    "collapsed": false,
    "pycharm": {
     "name": "#%%\n"
    }
   }
  },
  {
   "cell_type": "code",
   "execution_count": 17,
   "outputs": [
    {
     "data": {
      "text/plain": "<Figure size 432x288 with 2 Axes>",
      "image/png": "[encoded data removed]"
     },
     "metadata": {
      "needs_background": "light"
     },
     "output_type": "display_data"
    }
   ],
   "source": [
    "fig, ax1 = plt.subplots()\n",
    "ax2 = ax1.twinx()\n",
    "\n",
    "ax1.plot(arr2_e, arr1_e, label=\"exponential\")\n",
    "ax1.plot(arr2_u, arr1_u, label=\"uniform\")\n",
    "plt.plot(arr4_e, arr3_e)\n",
    "plt.plot(arr4_u, arr3_u)\n",
    "\n",
    "ax1.legend()\n",
    "ax1.grid()\n",
    "ax1.set_xlabel(\"days\")\n",
    "ax1.set_ylabel(\"number of infected\")\n",
    "# plt.savefig(\"infected_plot.png\")\n",
    "\n",
    "plt.show()"
   ],
   "metadata": {
    "collapsed": false,
    "pycharm": {
     "name": "#%%\n"
    }
   }
  },
  {
   "cell_type": "code",
   "execution_count": null,
   "outputs": [],
   "source": [
    "plt.plot(res_uni[3])\n",
    "plt.plot(res_exp[3])"
   ],
   "metadata": {
    "collapsed": false,
    "pycharm": {
     "name": "#%%\n"
    }
   }
  },
  {
   "cell_type": "code",
   "execution_count": null,
   "outputs": [],
   "source": [
    "res_uni[3]"
   ],
   "metadata": {
    "collapsed": false,
    "pycharm": {
     "name": "#%%\n"
    }
   }
  },
  {
   "cell_type": "code",
   "execution_count": 19,
   "outputs": [],
   "source": [
    "def rho(deaths):\n",
    "    if deaths < 50:\n",
    "        rho = 1\n",
    "    if 50 <= deaths < 75:\n",
    "        rho = 1.5\n",
    "    else:\n",
    "        rho = 2\n",
    "\n",
    "    return rho"
   ],
   "metadata": {
    "collapsed": false,
    "pycharm": {
     "name": "#%%\n"
    }
   }
  },
  {
   "cell_type": "code",
   "execution_count": 20,
   "outputs": [],
   "source": [
    "l = []\n",
    "l1 = []\n",
    "for i in res_exp[2]:\n",
    "    l.append(rho(i))\n",
    "    l1.append(rho(i)**2)"
   ],
   "metadata": {
    "collapsed": false,
    "pycharm": {
     "name": "#%%\n"
    }
   }
  },
  {
   "cell_type": "code",
   "execution_count": 21,
   "outputs": [
    {
     "data": {
      "text/plain": "[<matplotlib.lines.Line2D at 0x221a8457400>]"
     },
     "execution_count": 21,
     "metadata": {},
     "output_type": "execute_result"
    },
    {
     "data": {
      "text/plain": "<Figure size 432x288 with 1 Axes>",
      "image/png": "[encoded data removed]"
     },
     "metadata": {
      "needs_background": "light"
     },
     "output_type": "display_data"
    }
   ],
   "source": [
    "plt.plot(l)\n",
    "plt.plot(l1)"
   ],
   "metadata": {
    "collapsed": false,
    "pycharm": {
     "name": "#%%\n"
    }
   }
  },
  {
   "cell_type": "code",
   "execution_count": 22,
   "outputs": [],
   "source": [
    "# 659000 infected"
   ],
   "metadata": {
    "collapsed": false,
    "pycharm": {
     "name": "#%%\n"
    }
   }
  },
  {
   "cell_type": "code",
   "execution_count": 23,
   "outputs": [],
   "source": [
    "# per simulazione seconda parte cercare di tenere lambda fisso quando raggiunge un certo valore (rho = 2)\n",
    "# mantenere rt = 1"
   ],
   "metadata": {
    "collapsed": false,
    "pycharm": {
     "name": "#%%\n"
    }
   }
  }
 ],
 "metadata": {
  "kernelspec": {
   "display_name": "Python 3",
   "language": "python",
   "name": "python3"
  },
  "language_info": {
   "codemirror_mode": {
    "name": "ipython",
    "version": 2
   },
   "file_extension": ".py",
   "mimetype": "text/x-python",
   "name": "python",
   "nbconvert_exporter": "python",
   "pygments_lexer": "ipython2",
   "version": "2.7.6"
  }
 },
 "nbformat": 4,
 "nbformat_minor": 0
}