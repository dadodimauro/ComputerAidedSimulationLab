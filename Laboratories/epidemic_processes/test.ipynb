{
 "cells": [
  {
   "cell_type": "code",
   "execution_count": 2,
   "metadata": {
    "collapsed": true
   },
   "outputs": [],
   "source": [
    "import numpy as np\n",
    "import math\n",
    "from scipy import stats\n",
    "import matplotlib.pyplot as plt"
   ]
  },
  {
   "cell_type": "code",
   "execution_count": 10,
   "outputs": [],
   "source": [
    "np.random.seed(42)"
   ],
   "metadata": {
    "collapsed": false
   }
  },
  {
   "cell_type": "code",
   "execution_count": 123,
   "outputs": [],
   "source": [
    "def sigma(t):\n",
    "    if t <= 10:\n",
    "        return 20\n",
    "    else:\n",
    "        return 0"
   ],
   "metadata": {
    "collapsed": false
   }
  },
  {
   "cell_type": "code",
   "execution_count": 76,
   "outputs": [],
   "source": [
    "def kernel (x,y,b):\n",
    "    \"\"\" calculates the exponentially decay kernel for difference of x-y with bandwidth b\"\"\"\n",
    "    return np.exp (-b * (x-y))"
   ],
   "metadata": {
    "collapsed": false
   }
  },
  {
   "cell_type": "code",
   "execution_count": 79,
   "outputs": [],
   "source": [
    "def drawExpRV (param):\n",
    "    # using the inverse method\n",
    "    #return (1/float (param)) * np.log (rng.uniform (0,1))\n",
    "\n",
    "    # using the built-in numpy function\n",
    "    return np.random.exponential(scale=param)"
   ],
   "metadata": {
    "collapsed": false
   }
  },
  {
   "cell_type": "code",
   "execution_count": 132,
   "outputs": [],
   "source": [
    "def univariate (mu, alpha, omega, T, numEvents=None, seed=None):\n",
    "\n",
    "    nTotal = 0\n",
    "    if numEvents is None:\n",
    "        nExpected = np.iinfo(np.int32).max\n",
    "    else:\n",
    "        nExpected = numEvents\n",
    "\n",
    "    lambda_star = sigma(0)\n",
    "    dlambda = 0.0\n",
    "    t,s = 0,0\n",
    "\n",
    "    history = list ()\n",
    "\n",
    "    # In the absence of history, the first timestamp is generated\n",
    "    # from an exponential distribution.\n",
    "    s = s + np.random.uniform()\n",
    "\n",
    "    if s <= T and nTotal < nExpected:\n",
    "        history.append (s)\n",
    "        dlambda = alpha\n",
    "        t=s\n",
    "        nTotal += 1\n",
    "    else:\n",
    "        return history\n",
    "\n",
    "    # General routine.\n",
    "    while nTotal < nExpected:\n",
    "        lambda_star = sigma(s) + dlambda * kernel (s, t, omega)\n",
    "        s = s + drawExpRV (lambda_star)\n",
    "        if s > T:\n",
    "            break\n",
    "\n",
    "        d = np.random.uniform (0,1)\n",
    "        # accept only if the following condition holds\n",
    "        if d <= (sigma(s) + dlambda * kernel (s, t, omega) / lambda_star):\n",
    "            history.append (s)\n",
    "            dlambda = dlambda * kernel (s, t, omega) + alpha\n",
    "            t=s\n",
    "            nTotal += 1\n",
    "\n",
    "    return history"
   ],
   "metadata": {
    "collapsed": false
   }
  },
  {
   "cell_type": "code",
   "execution_count": 137,
   "outputs": [],
   "source": [
    "a = univariate(mu=1, alpha=0.2, omega=.1, T=20)"
   ],
   "metadata": {
    "collapsed": false
   }
  },
  {
   "cell_type": "code",
   "execution_count": 143,
   "outputs": [
    {
     "data": {
      "text/plain": "7"
     },
     "execution_count": 143,
     "metadata": {},
     "output_type": "execute_result"
    }
   ],
   "source": [
    "np.sum([(15 - np.array(a)) > 0])"
   ],
   "metadata": {
    "collapsed": false
   }
  },
  {
   "cell_type": "code",
   "execution_count": 144,
   "outputs": [
    {
     "data": {
      "text/plain": "12"
     },
     "execution_count": 144,
     "metadata": {},
     "output_type": "execute_result"
    }
   ],
   "source": [
    "len(a)"
   ],
   "metadata": {
    "collapsed": false
   }
  }
 ],
 "metadata": {
  "kernelspec": {
   "display_name": "Python 3",
   "language": "python",
   "name": "python3"
  },
  "language_info": {
   "codemirror_mode": {
    "name": "ipython",
    "version": 2
   },
   "file_extension": ".py",
   "mimetype": "text/x-python",
   "name": "python",
   "nbconvert_exporter": "python",
   "pygments_lexer": "ipython2",
   "version": "2.7.6"
  }
 },
 "nbformat": 4,
 "nbformat_minor": 0
}
