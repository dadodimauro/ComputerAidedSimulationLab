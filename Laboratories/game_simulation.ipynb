{
 "cells": [
  {
   "cell_type": "code",
   "execution_count": 1,
   "metadata": {
    "pycharm": {
     "name": "#%%\n"
    }
   },
   "outputs": [],
   "source": [
    "# assumptions\n",
    "### players move at random\n",
    "### starting position choosen at random\n",
    "### players can move on the same position\n",
    "### near means in all 8 directions (adjacent iff distance <= sqrt(2))\n",
    "### all player must move (no one is stucked)\n",
    "### movement speed is costant and the same for all the players\n",
    "### discrete time\n",
    "### discrete space (map like chessboard)\n",
    "### each player shoots at the same time\n",
    "\n",
    "# input parameters\n",
    "### size of the area (m^2)\n",
    "### mobility speed (m/s)\n",
    "###         if speed is 1 m/s each player moves 1 slot at each second\n",
    "###         if speed is 10m/s each player moves 1 slot each 0.1 second\n",
    "#\n",
    "### number of initial players\n",
    "\n",
    "# output metrics\n",
    "### time to win (s)\n",
    "### killed opponents\n",
    "\n",
    "# main data structures\n",
    "### NO DATA STRUCTURE FOR FES (compute all movement and kills at each for loop)\n",
    "### player: id\n",
    "###         position (x, y)\n",
    "###         status (killed or not)\n",
    "###         killed opponents\n",
    "###\n",
    "### list of players\n",
    "\n",
    "# main algorithms\n",
    "### movement algorithm: at random add or subtract either 1 or 0 for both x and y coordinates\n",
    "###                     coordinates can't be larger the size of the board\n",
    "###\n",
    "### find if is near algorithm: compute distance between 2 points, if less than sqrt(2) they are near \n",
    "###\n",
    "### shoot algorithm: for each player computes near player\n",
    "###                  if you find one, choose one of the 2 at random and set status to killed\n",
    "###\n",
    "### simulation: loop while there are players alive, at each iteration compute movement, shooting\n",
    "\n",
    "# possible extension\n",
    "### add life (resitance to more than one shoot)\n",
    "### add strenght of the shoot (also possible to compute it in function of the distance between players)\n",
    "### ability of the player or in the same way the stats of the weapon/player\n",
    "### reducing the size of the map\n",
    "### obstacoles in the map (forbidden zones, different movement speed in some areas)"
   ]
  },
  {
   "cell_type": "code",
   "execution_count": 2,
   "metadata": {
    "pycharm": {
     "name": "#%%\n"
    }
   },
   "outputs": [],
   "source": [
    "import numpy as np\n",
    "import pandas as pd\n",
    "import math\n",
    "import random"
   ]
  },
  {
   "cell_type": "code",
   "execution_count": 3,
   "metadata": {
    "pycharm": {
     "name": "#%%\n"
    }
   },
   "outputs": [
    {
     "name": "stdout",
     "output_type": "stream",
     "text": [
      "print initial parameter here\n",
      "\n"
     ]
    }
   ],
   "source": [
    "np.random.seed = 42\n",
    "\n",
    "area = 4\n",
    "inital_players = 3\n",
    "remaining_players = inital_players\n",
    "movement_speed = 1\n",
    "epoch = 0  # used to compute the time to win\n",
    "max_turns = 20\n",
    "\n",
    "print(\"print initial parameter here\\n\")"
   ]
  },
  {
   "cell_type": "code",
   "execution_count": 4,
   "metadata": {
    "pycharm": {
     "name": "#%%\n"
    }
   },
   "outputs": [],
   "source": [
    "def startingPosition():\n",
    "    x = np.random.randint(0, area)\n",
    "    y = np.random.randint(0, area)\n",
    "    return (x, y)"
   ]
  },
  {
   "cell_type": "code",
   "execution_count": 5,
   "metadata": {
    "pycharm": {
     "name": "#%%\n"
    }
   },
   "outputs": [],
   "source": [
    "def move(x, y):\n",
    "    x_movement = np.random.randint(-1, 2)\n",
    "    y_movement = np.random.randint(-1, 2)\n",
    "    # print(x_movement, y_movement)\n",
    "    new_x = x + x_movement\n",
    "    new_y = y + y_movement\n",
    "\n",
    "    if (new_x < 0 or new_x >= area):  # new x position is not valid\n",
    "        new_x = x\n",
    "    if (new_y < 0 or new_y >= area):  # new y position is not valid\n",
    "        new_y = y\n",
    "\n",
    "    return (new_x, new_y)"
   ]
  },
  {
   "cell_type": "code",
   "execution_count": 6,
   "metadata": {
    "pycharm": {
     "name": "#%%\n"
    }
   },
   "outputs": [],
   "source": [
    "def isNear(coord1, coord2):\n",
    "    distance = math.dist(coord1, coord2)\n",
    "    if distance < 1.42:  # distance less than sqrt(2) the players are near \n",
    "        return True\n",
    "    else:\n",
    "        return False"
   ]
  },
  {
   "cell_type": "code",
   "execution_count": 7,
   "metadata": {
    "pycharm": {
     "name": "#%%\n"
    }
   },
   "outputs": [],
   "source": [
    "def shooting(players):\n",
    "    pass"
   ]
  },
  {
   "cell_type": "code",
   "execution_count": 8,
   "metadata": {
    "pycharm": {
     "name": "#%%\n"
    }
   },
   "outputs": [],
   "source": [
    "class Player:\n",
    "    def __init__(self, id, x, y):\n",
    "        self.position = (x, y)\n",
    "        self.id = id\n",
    "        self.killed = False  \n",
    "        self.killedOpponents = 0\n",
    "\n",
    "    def setPosition(self, position):\n",
    "        self.position = position\n",
    "    \n",
    "    def setKilled(self):\n",
    "        self.killed = True  \n",
    "        \n",
    "    def increasKilledOpponents(self):\n",
    "        self.killedOpponents += 1\n",
    "\n",
    "    def getId(self):\n",
    "        return self.id\n",
    "\n",
    "    def getPosition(self):\n",
    "        return self.position\n",
    "\n",
    "    def getKilledOpponents(self):\n",
    "        return self.killedOpponents\n",
    "\n",
    "    def isKilled(self):\n",
    "        return self.killed\n"
   ]
  },
  {
   "cell_type": "code",
   "execution_count": 9,
   "metadata": {
    "pycharm": {
     "name": "#%%\n"
    }
   },
   "outputs": [
    {
     "name": "stdout",
     "output_type": "stream",
     "text": [
      "player [0] added to the game\n",
      "\tstarting position for player [0] is (2, 2)\n",
      "player [1] added to the game\n",
      "\tstarting position for player [1] is (3, 2)\n",
      "player [2] added to the game\n",
      "\tstarting position for player [2] is (0, 1)\n",
      "\n"
     ]
    }
   ],
   "source": [
    "players = []  # list of players\n",
    "# populate players\n",
    "for id in range(0, inital_players):\n",
    "    x, y = startingPosition()\n",
    "    p = Player(id, x, y)\n",
    "    players.append(p)\n",
    "    print(f'player [{id}] added to the game')\n",
    "    print(f'\\tstarting position for player [{id}] is ({x}, {y})')\n",
    "\n",
    "print()"
   ]
  },
  {
   "cell_type": "code",
   "execution_count": 10,
   "metadata": {
    "pycharm": {
     "name": "#%%\n"
    }
   },
   "outputs": [
    {
     "name": "stdout",
     "output_type": "stream",
     "text": [
      "turn [0]\n",
      "player [0] moved in (2, 3)\n",
      "player [1] moved in (3, 3)\n",
      "player [2] moved in (0, 0)\n",
      "player [0] killed player [1]\n",
      "turn [1]\n",
      "player [2] moved in (0, 0)\n",
      "player [0] moved in (1, 3)\n",
      "turn [2]\n",
      "player [0] moved in (0, 2)\n",
      "player [2] moved in (1, 0)\n",
      "turn [3]\n",
      "player [0] moved in (0, 2)\n",
      "player [2] moved in (2, 0)\n",
      "turn [4]\n",
      "player [2] moved in (2, 0)\n",
      "player [0] moved in (1, 1)\n",
      "player [0] killed player [2]\n",
      "REMAINING PLAYERS = 1\n",
      "PLAYER [0] WINS!!\n"
     ]
    }
   ],
   "source": [
    "epoch = 0\n",
    "while (remaining_players > 1 and epoch < max_turns):\n",
    "# while (remaining_players > 1):\n",
    "    print(f'turn [{epoch}]')\n",
    "    # if epoch % 1000 == 0:\n",
    "        # print(f'turn [{epoch}]')\n",
    "\n",
    "    # move each player \n",
    "    for p in players:\n",
    "        if p.isKilled() is True:  # skip killed player\n",
    "            continue\n",
    "\n",
    "        current_position = p.getPosition()\n",
    "        # compute new position\n",
    "        new_position = move(current_position[0], current_position[1])\n",
    "        p.setPosition(new_position)\n",
    "\n",
    "        print(f'player [{p.getId()}] moved in ({new_position[0]}, {new_position[1]})')\n",
    "\n",
    "    # shooting\n",
    "    for p in players:\n",
    "        if p.isKilled() is True:  # skip killed player\n",
    "            continue\n",
    "\n",
    "        for _p in players:\n",
    "            if p.getId() == _p.getId():  # same player\n",
    "                continue\n",
    "            if _p.isKilled() is True:\n",
    "                continue\n",
    "\n",
    "            if isNear(p.getPosition(), _p.getPosition()):  # if players are near\n",
    "                if (np.random.randint(0, 2) == 0):  # p wins\n",
    "                    p.increasKilledOpponents()\n",
    "                    _p.setKilled()\n",
    "                    remaining_players += -1\n",
    "                    print(f'player [{p.getId()}] killed player [{_p.getId()}]')\n",
    "                else:  # _p wins\n",
    "                    _p.increasKilledOpponents()\n",
    "                    p.setKilled()\n",
    "                    remaining_players += -1\n",
    "                    print(f'player [{_p.getId()}] killed player [{p.getId()}]')\n",
    "\n",
    "        \n",
    "    random.shuffle(players)  # shuffle list to change the order used to search for near players\n",
    "    epoch += 1\n",
    "\n",
    "print(f\"REMAINING PLAYERS = {remaining_players}\")\n",
    "\n",
    "if remaining_players == 1:\n",
    "    for p in players:\n",
    "        if p.isKilled() is False:\n",
    "            print(f'PLAYER [{p.getId()}] WINS!!')"
   ]
  },
  {
   "cell_type": "code",
   "execution_count": 11,
   "metadata": {
    "pycharm": {
     "name": "#%%\n"
    }
   },
   "outputs": [
    {
     "name": "stdout",
     "output_type": "stream",
     "text": [
      "1\n",
      "True\n",
      "0\n",
      "(3, 3)\n",
      "\n",
      "0\n",
      "False\n",
      "2\n",
      "(1, 1)\n",
      "\n",
      "2\n",
      "True\n",
      "0\n",
      "(2, 0)\n",
      "\n"
     ]
    }
   ],
   "source": [
    "for p in players:\n",
    "    print(p.getId())\n",
    "    print(p.isKilled())\n",
    "    print(p.getKilledOpponents())\n",
    "    print(p.getPosition())\n",
    "    print()"
   ]
  },
  {
   "cell_type": "code",
   "execution_count": 12,
   "metadata": {
    "pycharm": {
     "name": "#%%\n"
    }
   },
   "outputs": [
    {
     "data": {
      "text/plain": [
       "1"
      ]
     },
     "execution_count": 12,
     "metadata": {},
     "output_type": "execute_result"
    }
   ],
   "source": [
    "remaining_players"
   ]
  }
 ],
 "metadata": {
  "kernelspec": {
   "display_name": "Python 3.10.7 64-bit",
   "language": "python",
   "name": "python3"
  },
  "language_info": {
   "codemirror_mode": {
    "name": "ipython",
    "version": 3
   },
   "file_extension": ".py",
   "mimetype": "text/x-python",
   "name": "python",
   "nbconvert_exporter": "python",
   "pygments_lexer": "ipython3",
   "version": "3.10.7"
  },
  "orig_nbformat": 4,
  "vscode": {
   "interpreter": {
    "hash": "b629c3126b5df0b3c19ac5f524890cb3a3a2e86c1a2f2c4b1c29287aa73e65d0"
   }
  }
 },
 "nbformat": 4,
 "nbformat_minor": 2
}