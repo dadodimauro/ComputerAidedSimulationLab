{
 "cells": [
  {
   "cell_type": "code",
   "execution_count": 68,
   "metadata": {
    "collapsed": true,
    "pycharm": {
     "name": "#%%\n"
    }
   },
   "outputs": [],
   "source": [
    "import numpy as np\n",
    "import pandas as pd\n",
    "import math\n",
    "from scipy import stats\n",
    "import matplotlib.pyplot as plt"
   ]
  },
  {
   "cell_type": "code",
   "execution_count": 19,
   "outputs": [],
   "source": [
    "seed = 42\n",
    "np.random.seed(seed)"
   ],
   "metadata": {
    "collapsed": false,
    "pycharm": {
     "name": "#%%\n"
    }
   }
  },
  {
   "cell_type": "code",
   "execution_count": 99,
   "outputs": [],
   "source": [
    "def get_real_distribution():\n",
    "    \"\"\"\n",
    "    generate a dataframe with the mean of the number of births in america from 1994 to 2003\n",
    "    :return: dataframe with 1 column for the birth rate\n",
    "    \"\"\"\n",
    "\n",
    "    df = pd.read_csv(\"US_births_1994-2003_CDC_NCHS.csv\")\n",
    "    df = (\n",
    "        df.groupby(['month', 'date_of_month'])\n",
    "            .births\n",
    "            .mean()\n",
    "    )\n",
    "    df = df.drop(59)  # remove the 29th of February\n",
    "    df = pd.DataFrame(df.values, columns=[\"births\"])\n",
    "    return df"
   ],
   "metadata": {
    "collapsed": false,
    "pycharm": {
     "name": "#%%\n"
    }
   }
  },
  {
   "cell_type": "code",
   "execution_count": 4,
   "outputs": [],
   "source": [
    "def compute_average(k, n, seed, distribution, distribution_type=\"uniform\"):\n",
    "    \"\"\"\n",
    "    compute the average trials needed to have a collision\n",
    "    :param k: number of runs\n",
    "    :param n: cardinality of the set\n",
    "    :param seed: random seed\n",
    "    :param distribution: dataframe with the birth distribution\n",
    "    :param distribution_type: type of the distribution, can be \"real\" or \"uniform\"\n",
    "    :return: list of number of element extracted to have a collision for each run\n",
    "    \"\"\"\n",
    "\n",
    "    if distribution_type != \"uniform\" and distribution_type != \"real\":\n",
    "        print(\"non valid distribution type\")\n",
    "        return -1\n",
    "\n",
    "    np.random.seed(seed)  # set random seed\n",
    "    collision_list = []\n",
    "    for i in range(k):\n",
    "        l = []\n",
    "        m = 0\n",
    "        while True:\n",
    "            if distribution_type == \"uniform\":\n",
    "                x = np.random.randint(0, n)  # extract a number between 0 and n from a uniform distribution\n",
    "            else:\n",
    "                x = distribution.sample(1, weights=\"births\", replace=True).index.values  # extract a number between 0 and n from the real distribution\n",
    "\n",
    "            if x in l:\n",
    "                collision_list.append(m)  # if there is a collision save the number of times it took to have one\n",
    "                break\n",
    "\n",
    "            l.append(x)  # if there is no collision add the new value to the list and continue\n",
    "            m += 1  # increase counter\n",
    "\n",
    "    return collision_list"
   ],
   "metadata": {
    "collapsed": false,
    "pycharm": {
     "name": "#%%\n"
    }
   }
  },
  {
   "cell_type": "code",
   "execution_count": 42,
   "outputs": [],
   "source": [
    "def compute_probability(m, n, k, seed, distribution, distribution_type=\"uniform\"):\n",
    "    \"\"\"\n",
    "    compute the probability of collision of m elements in a set of cardinality n\n",
    "    :param m: number of elements\n",
    "    :param n: cardinality of the set\n",
    "    :param k: number of runs\n",
    "    :param seed: random seed\n",
    "    :param distribution: dataframe with the birth distribution\n",
    "    :param distribution_type: type of the distribution, can be \"real\" or \"uniform\"\n",
    "    :return: probability of having a collision\n",
    "    \"\"\"\n",
    "\n",
    "    if distribution_type != \"uniform\" and distribution_type != \"real\":\n",
    "        print(\"non valid distribution type\")\n",
    "        return -1\n",
    "\n",
    "    np.random.seed(seed)  # set random seed\n",
    "    collisions = 0\n",
    "    for i in range(k):\n",
    "        if distribution_type == \"uniform\":\n",
    "            x = np.random.randint(0, n, m)  # extract m number between 0 and n from a uniform distribution\n",
    "        else:\n",
    "            x = distribution.sample(m, weights=\"births\", replace=True).index.values  # extract m number between 0 and n from the real distribution\n",
    "\n",
    "        if len(np.unique(x)) < len(x):  # if there is a collision increment counter\n",
    "            collisions += 1\n",
    "\n",
    "    return collisions / k"
   ],
   "metadata": {
    "collapsed": false,
    "pycharm": {
     "name": "#%%\n"
    }
   }
  },
  {
   "cell_type": "code",
   "execution_count": 6,
   "outputs": [],
   "source": [
    "def expected_p(m, n):\n",
    "    \"\"\"\n",
    "    compute the theoretical value of p\n",
    "    :param m: number of elements\n",
    "    :param n: cardinality of the set\n",
    "    :return: p\n",
    "    \"\"\"\n",
    "    return 1 - math.exp(-math.pow(m, 2) / (2 * n))"
   ],
   "metadata": {
    "collapsed": false,
    "pycharm": {
     "name": "#%%\n"
    }
   }
  },
  {
   "cell_type": "code",
   "execution_count": 7,
   "outputs": [],
   "source": [
    "def expected_m(n, p):\n",
    "    \"\"\"\n",
    "    compute the theoretical value of m\n",
    "    :param n: cardinality of the set\n",
    "    :param p: probability\n",
    "    :return: m\n",
    "    \"\"\"\n",
    "    return math.sqrt(2 * n * math.log(1 / (1 - p)))"
   ],
   "metadata": {
    "collapsed": false,
    "pycharm": {
     "name": "#%%\n"
    }
   }
  },
  {
   "cell_type": "code",
   "execution_count": 8,
   "outputs": [],
   "source": [
    "def expected_Em(n):\n",
    "    \"\"\"\n",
    "    compute the theoretical value of the expected value of m\n",
    "    :param n: cardinality of the set\n",
    "    :return: E[m]\n",
    "    \"\"\"\n",
    "    return math.sqrt((math.pi / 2) * n)"
   ],
   "metadata": {
    "collapsed": false,
    "pycharm": {
     "name": "#%%\n"
    }
   }
  },
  {
   "cell_type": "code",
   "execution_count": null,
   "outputs": [],
   "source": [
    "def simulation_average(nRuns, n, k):\n",
    "    \"\"\"\n",
    "    simulator of the average trials needed to have a collision, both for the uniform and for the real distribution\n",
    "    :param nRuns: number of runs (each with a different seed)\n",
    "    :param n: cardinality of the set\n",
    "    :param k: number of trials\n",
    "    :return: dataframe with the result\n",
    "    \"\"\"\n",
    "\n",
    "    df = get_real_distribution()\n",
    "    d = dict()\n",
    "    for seed in range(nRuns):\n",
    "        l_uniform = compute_average(k, n, seed, None, \"uniform\")\n",
    "        l_real = compute_average(k, n, seed, df, \"real\")\n",
    "        mean_uniform = np.mean(l_uniform)\n",
    "        mean_real = np.mean(l_real)\n",
    "        d[seed] = [mean_uniform, mean_real]\n",
    "\n",
    "    return pd.DataFrame.from_dict(d, orient=\"index\", columns=[\"uniform\", \"real\"])"
   ],
   "metadata": {
    "collapsed": false,
    "pycharm": {
     "name": "#%%\n"
    }
   }
  },
  {
   "cell_type": "code",
   "execution_count": null,
   "outputs": [],
   "source": [
    "def simulation_probability(nRuns, m, n, k):\n",
    "    \"\"\"\n",
    "    simulator of the probability of having a collision, both for the uniform and for the real distribution\n",
    "    :param nRuns: number of runs (each with a different seed)\n",
    "    :param m: number of elements\n",
    "    :param n: cardinality of the set\n",
    "    :param k: number of trials\n",
    "    :return: dataframe with the result\n",
    "    \"\"\"\n",
    "\n",
    "    df = get_real_distribution()\n",
    "    d = dict()\n",
    "    for seed in range(nRuns):\n",
    "        p_uniform = compute_probability(m, n, k, seed, None, \"uniform\")\n",
    "        p_real = compute_probability(m, n, k, seed, df, \"real\")\n",
    "        d[seed] = [p_uniform, p_real]\n",
    "\n",
    "    return pd.DataFrame.from_dict(d, orient=\"index\", columns=[\"uniform\", \"real\"])"
   ],
   "metadata": {
    "collapsed": false,
    "pycharm": {
     "name": "#%%\n"
    }
   }
  },
  {
   "cell_type": "code",
   "execution_count": null,
   "outputs": [],
   "source": [
    "def confidence_interval(df, q):\n",
    "    \"\"\"\n",
    "\n",
    "    :param df: dataframe with measurements 1 column for uniform distribution and 1 column for the real one\n",
    "    :param q: percentile of the confidence interval\n",
    "    :return: 2 dataframes one with the lower bound and one with the upper bound for each distribution\n",
    "    \"\"\"\n",
    "    mean = df.mean()\n",
    "    variance = df.var()\n",
    "\n",
    "    t_crit = stats.t.ppf(q=q, df=df.shape[0])\n",
    "    down_i = mean - t_crit * np.sqrt(variance)/np.sqrt(df.shape[0])\n",
    "    up_i = mean + t_crit * np.sqrt(variance)/np.sqrt(df.shape[0])\n",
    "\n",
    "    return down_i, up_i"
   ],
   "metadata": {
    "collapsed": false,
    "pycharm": {
     "name": "#%%\n"
    }
   }
  },
  {
   "cell_type": "code",
   "execution_count": 9,
   "outputs": [],
   "source": [
    "df = get_real_distribution()"
   ],
   "metadata": {
    "collapsed": false,
    "pycharm": {
     "name": "#%%\n"
    }
   }
  },
  {
   "cell_type": "code",
   "execution_count": 10,
   "outputs": [],
   "source": [
    "l_uniform = compute_average(1000, 365, seed, None, \"uniform\")\n",
    "l_real = compute_average(1000, 365, seed, df, \"real\")"
   ],
   "metadata": {
    "collapsed": false,
    "pycharm": {
     "name": "#%%\n"
    }
   }
  },
  {
   "cell_type": "code",
   "execution_count": 11,
   "outputs": [],
   "source": [
    "mean_uniform = np.mean(l_uniform)\n",
    "mean_real = np.mean(l_real)\n",
    "expected_mean = expected_Em(365)"
   ],
   "metadata": {
    "collapsed": false,
    "pycharm": {
     "name": "#%%\n"
    }
   }
  },
  {
   "cell_type": "code",
   "execution_count": 12,
   "outputs": [
    {
     "name": "stdout",
     "output_type": "stream",
     "text": [
      "23.336 23.554 23.944532972687885\n"
     ]
    }
   ],
   "source": [
    "print(mean_uniform, mean_real, expected_mean)"
   ],
   "metadata": {
    "collapsed": false,
    "pycharm": {
     "name": "#%%\n"
    }
   }
  },
  {
   "cell_type": "code",
   "execution_count": 51,
   "outputs": [],
   "source": [
    "p_uniform = compute_probability(23, 365, 1000, seed, None, \"uniform\")\n",
    "p_real = compute_probability(23, 365, 1000, seed, df, \"real\")\n",
    "_expected_p = expected_p(23, 365)"
   ],
   "metadata": {
    "collapsed": false,
    "pycharm": {
     "name": "#%%\n"
    }
   }
  },
  {
   "cell_type": "code",
   "execution_count": 52,
   "outputs": [
    {
     "name": "stdout",
     "output_type": "stream",
     "text": [
      "0.517 0.523 0.5155095380615168\n"
     ]
    }
   ],
   "source": [
    "print(p_uniform, p_real, _expected_p)"
   ],
   "metadata": {
    "collapsed": false,
    "pycharm": {
     "name": "#%%\n"
    }
   }
  },
  {
   "cell_type": "code",
   "execution_count": 62,
   "outputs": [],
   "source": [
    "df_average = simulation_average(10, 365, 100)"
   ],
   "metadata": {
    "collapsed": false,
    "pycharm": {
     "name": "#%%\n"
    }
   }
  },
  {
   "cell_type": "code",
   "execution_count": 63,
   "outputs": [],
   "source": [
    "df_probability = simulation_probability(10, 23, 365, 1000)"
   ],
   "metadata": {
    "collapsed": false,
    "pycharm": {
     "name": "#%%\n"
    }
   }
  },
  {
   "cell_type": "code",
   "execution_count": 81,
   "outputs": [
    {
     "data": {
      "text/plain": "(uniform    23.180231\n real       22.667758\n dtype: float64,\n uniform    24.213769\n real       24.194242\n dtype: float64)"
     },
     "execution_count": 81,
     "metadata": {},
     "output_type": "execute_result"
    }
   ],
   "source": [
    "confidence_interval(df_average, .95)"
   ],
   "metadata": {
    "collapsed": false,
    "pycharm": {
     "name": "#%%\n"
    }
   }
  },
  {
   "cell_type": "code",
   "execution_count": 82,
   "outputs": [
    {
     "data": {
      "text/plain": "(uniform    0.497151\n real       0.504742\n dtype: float64,\n uniform    0.520449\n real       0.517858\n dtype: float64)"
     },
     "execution_count": 82,
     "metadata": {},
     "output_type": "execute_result"
    }
   ],
   "source": [
    "confidence_interval(df_probability, .95)"
   ],
   "metadata": {
    "collapsed": false,
    "pycharm": {
     "name": "#%%\n"
    }
   }
  }
 ],
 "metadata": {
  "kernelspec": {
   "display_name": "Python 3",
   "language": "python",
   "name": "python3"
  },
  "language_info": {
   "codemirror_mode": {
    "name": "ipython",
    "version": 2
   },
   "file_extension": ".py",
   "mimetype": "text/x-python",
   "name": "python",
   "nbconvert_exporter": "python",
   "pygments_lexer": "ipython2",
   "version": "2.7.6"
  }
 },
 "nbformat": 4,
 "nbformat_minor": 0
}