{
 "cells": [
  {
   "cell_type": "code",
   "execution_count": 100,
   "metadata": {
    "pycharm": {
     "name": "#%%\n"
    }
   },
   "outputs": [],
   "source": [
    "# assumptions\n",
    "### players move at random\n",
    "### starting position choosen at random\n",
    "### players can move on the same position\n",
    "### near means in all 8 directions (adjacent iff distance <= sqrt(2))\n",
    "### all player must move (no one is stucked)\n",
    "### movement speed is costant and the same for all the players\n",
    "### discrete time\n",
    "### discrete space (map like chessboard)\n",
    "### each player shoots at the same time\n",
    "\n",
    "# input parameters\n",
    "### size of the area (m^2)\n",
    "### mobility speed (m/s)\n",
    "###         if speed is 1 m/s each player moves 1 slot at each second\n",
    "###         if speed is 10m/s each player moves 1 slot each 0.1 second\n",
    "#\n",
    "### number of initial players\n",
    "\n",
    "# output metrics\n",
    "### time to win (s)\n",
    "### killed opponents\n",
    "\n",
    "# main data structures\n",
    "### NO DATA STRUCTURE FOR FES (compute all movement and kills at each for loop)\n",
    "### player: id\n",
    "###         position (x, y)\n",
    "###         status (killed or not)\n",
    "###         killed opponents\n",
    "###\n",
    "### list of players\n",
    "\n",
    "# main algorithms\n",
    "### movement algorithm: at random add or subtract either 1 or 0 for both x and y coordinates\n",
    "###                     coordinates can't be larger the size of the board\n",
    "###\n",
    "### find if is near algorithm: compute distance between 2 points, if less than sqrt(2) they are near \n",
    "###\n",
    "### shoot algorithm: for each player computes near player\n",
    "###                  if you find one, choose one of the 2 at random and set status to killed\n",
    "###\n",
    "### simulation: loop while there are players alive, at each iteration compute movement, shooting\n",
    "\n",
    "# possible extension\n",
    "### add life (resitance to more than one shoot)\n",
    "### add strenght of the shoot (also possible to compute it in function of the distance between players)\n",
    "### ability of the player or in the same way the stats of the weapon/player\n",
    "### reducing the size of the map\n",
    "### obstacoles in the map (forbidden zones, different movement speed in some areas)"
   ]
  },
  {
   "cell_type": "code",
   "execution_count": null,
   "outputs": [],
   "source": [
    "import numpy as np\n",
    "import pandas as pd\n",
    "import math\n",
    "import random\n",
    "import statistics"
   ],
   "metadata": {
    "collapsed": false,
    "pycharm": {
     "name": "#%%\n"
    }
   }
  },
  {
   "cell_type": "code",
   "execution_count": null,
   "outputs": [],
   "source": [
    "seed = 53\n",
    "np.random.seed(seed)\n",
    "random.seed(seed)\n",
    "\n",
    "area = 7\n",
    "inital_players = 4\n",
    "remaining_players = inital_players\n",
    "movement_speed = 1\n",
    "epoch = 0  # used to compute the time to win\n",
    "# max_turns = 20\n",
    "\n",
    "print(\"PARAMETERS\\n\")\n",
    "print(\"area: {}x{} m^2\".format(area, area))\n",
    "print(\"initial players: {}\".format(inital_players))\n",
    "print(\"movement speed: {} m/s\".format(movement_speed))"
   ],
   "metadata": {
    "collapsed": false,
    "pycharm": {
     "name": "#%%\n"
    }
   }
  },
  {
   "cell_type": "code",
   "execution_count": null,
   "outputs": [],
   "source": [
    "# return a random position in the map\n",
    "def startingPosition():\n",
    "    x = np.random.randint(0, area)\n",
    "    y = np.random.randint(0, area)\n",
    "    return (x, y)"
   ],
   "metadata": {
    "collapsed": false,
    "pycharm": {
     "name": "#%%\n"
    }
   }
  },
  {
   "cell_type": "code",
   "execution_count": null,
   "outputs": [],
   "source": [
    "# move +-1 in x and y dimension\n",
    "def move(x, y):\n",
    "    x_movement = np.random.randint(-1, 2)\n",
    "    y_movement = np.random.randint(-1, 2)\n",
    "    # print(x_movement, y_movement)\n",
    "    new_x = x + x_movement\n",
    "    new_y = y + y_movement\n",
    "\n",
    "    if (new_x < 0 or new_x >= area):  # new x position is not valid\n",
    "        new_x = x\n",
    "    if (new_y < 0 or new_y >= area):  # new y position is not valid\n",
    "        new_y = y\n",
    "\n",
    "    return (new_x, new_y)"
   ],
   "metadata": {
    "collapsed": false,
    "pycharm": {
     "name": "#%%\n"
    }
   }
  },
  {
   "cell_type": "code",
   "execution_count": null,
   "outputs": [],
   "source": [
    "# find if two players are near\n",
    "def isNear(coord1, coord2):\n",
    "    distance = math.dist(coord1, coord2)\n",
    "    if distance < 1.42:  # distance less than sqrt(2) the players are near \n",
    "        return True\n",
    "    else:\n",
    "        return False"
   ],
   "metadata": {
    "collapsed": false,
    "pycharm": {
     "name": "#%%\n"
    }
   }
  },
  {
   "cell_type": "code",
   "execution_count": null,
   "outputs": [],
   "source": [
    "def shooting(players):\n",
    "    pass"
   ],
   "metadata": {
    "collapsed": false,
    "pycharm": {
     "name": "#%%\n"
    }
   }
  },
  {
   "cell_type": "code",
   "execution_count": null,
   "outputs": [],
   "source": [
    "class Player:\n",
    "    def __init__(self, id, x, y):\n",
    "        self.position = (x, y)\n",
    "        self.id = id\n",
    "        self.killed = False  \n",
    "        self.killedOpponents = 0\n",
    "        self.winner = False\n",
    "\n",
    "    def setPosition(self, position):\n",
    "        self.position = position\n",
    "    \n",
    "    def setKilled(self):\n",
    "        self.killed = True  \n",
    "        \n",
    "    def increasKilledOpponents(self):\n",
    "        self.killedOpponents += 1\n",
    "\n",
    "    def setIsWinner(self):\n",
    "        self.winner = True\n",
    "\n",
    "    def getId(self):\n",
    "        return self.id\n",
    "\n",
    "    def getPosition(self):\n",
    "        return self.position\n",
    "\n",
    "    def getKilledOpponents(self):\n",
    "        return self.killedOpponents\n",
    "\n",
    "    def isKilled(self):\n",
    "        return self.killed\n",
    "\n",
    "    def isWinner(self):\n",
    "        return self.winner\n"
   ],
   "metadata": {
    "collapsed": false,
    "pycharm": {
     "name": "#%%\n"
    }
   }
  },
  {
   "cell_type": "code",
   "execution_count": null,
   "outputs": [],
   "source": [
    "players = []  # list of players\n",
    "# populate players\n",
    "for id in range(0, inital_players):\n",
    "    x, y = startingPosition()\n",
    "    p = Player(id, x, y)\n",
    "    players.append(p)\n",
    "    print(f'player [{id}] added to the game')\n",
    "    print(f'\\tstarting position for player [{id}] is ({x}, {y})')\n",
    "\n",
    "print()"
   ],
   "metadata": {
    "collapsed": false,
    "pycharm": {
     "name": "#%%\n"
    }
   }
  },
  {
   "cell_type": "code",
   "execution_count": null,
   "outputs": [],
   "source": [
    "# while (remaining_players > 1 and epoch < max_turns):\n",
    "while (remaining_players > 1):\n",
    "    print(f'turn [{epoch}]')\n",
    "    # if epoch % 1000 == 0:\n",
    "        # print(f'turn [{epoch}]')\n",
    "\n",
    "    # move each player \n",
    "    for p in players:\n",
    "        if p.isKilled() is True:  # skip killed player\n",
    "            continue\n",
    "\n",
    "        current_position = p.getPosition()\n",
    "        # compute new position\n",
    "        new_position = move(current_position[0], current_position[1])\n",
    "        p.setPosition(new_position)\n",
    "\n",
    "        print(f'player [{p.getId()}] moved in ({new_position[0]}, {new_position[1]})')\n",
    "\n",
    "    # shooting\n",
    "    for p in players:\n",
    "        if p.isKilled() is True:  # skip killed player\n",
    "            continue\n",
    "\n",
    "        for _p in players:\n",
    "            if p.getId() == _p.getId():  # same player\n",
    "                continue\n",
    "            if _p.isKilled() is True:\n",
    "                continue\n",
    "\n",
    "            if isNear(p.getPosition(), _p.getPosition()):  # if players are near\n",
    "                if (np.random.randint(0, 2) == 0):  # p wins\n",
    "                    p.increasKilledOpponents()\n",
    "                    _p.setKilled()\n",
    "                    remaining_players += -1\n",
    "                    print(f'player [{p.getId()}] killed player [{_p.getId()}]')\n",
    "                else:  # _p wins\n",
    "                    _p.increasKilledOpponents()\n",
    "                    p.setKilled()\n",
    "                    remaining_players += -1\n",
    "                    print(f'player [{_p.getId()}] killed player [{p.getId()}]')\n",
    "\n",
    "        \n",
    "    random.shuffle(players)  # shuffle list to change the order used to search for near players\n",
    "    epoch += 1\n",
    "\n",
    "print(f\"REMAINING PLAYERS = {remaining_players}\")\n",
    "\n",
    "if remaining_players == 1:\n",
    "    for p in players:\n",
    "        if p.isKilled() is False:\n",
    "            p.setIsWinner()\n",
    "            print(f'PLAYER [{p.getId()}] WINS!!')\n",
    "\n",
    "if remaining_players == 0:\n",
    "    print(\"ERROR -> remaining_player = 0\")"
   ],
   "metadata": {
    "collapsed": false,
    "pycharm": {
     "name": "#%%\n"
    }
   }
  },
  {
   "cell_type": "code",
   "execution_count": null,
   "outputs": [],
   "source": [
    "# print statistics and compute average of killed opponents for each players\n",
    "killed_opponents = []\n",
    "winner_killed_opponents = -1\n",
    "for p in players:\n",
    "    killed_opponents.append(p.getKilledOpponents())\n",
    "    if p.isWinner() is True:\n",
    "        winner_killed_opponents = p.getKilledOpponents()  # save killed opponents of the winner\n",
    "\n",
    "    print('PLAYER {} INFO:'.format(p.getId()))\n",
    "    print('\\tis winner: {}'.format(p.isWinner()))\n",
    "    print('\\tis killed: {}'.format(p.isKilled()))\n",
    "    print('\\t# killed opponents: {}'.format(p.getKilledOpponents()))\n",
    "    print('\\tlast position: {}'.format(p.getPosition()))\n",
    "    print()"
   ],
   "metadata": {
    "collapsed": false,
    "pycharm": {
     "name": "#%%\n"
    }
   }
  },
  {
   "cell_type": "code",
   "execution_count": null,
   "outputs": [],
   "source": [
    "remaining_players"
   ],
   "metadata": {
    "collapsed": false,
    "pycharm": {
     "name": "#%%\n"
    }
   }
  },
  {
   "cell_type": "code",
   "execution_count": null,
   "outputs": [],
   "source": [
    "df = pd.DataFrame(columns=['time', 'initial_players', 'area', 'mobility_speed', 'seed', 'avg_killed_opponents', 'winner_killed_opponents'])\n",
    "\n",
    "l = [epoch * movement_speed, inital_players, area, movement_speed, seed, statistics.fmean(killed_opponents), winner_killed_opponents]"
   ],
   "metadata": {
    "collapsed": false,
    "pycharm": {
     "name": "#%%\n"
    }
   }
  },
  {
   "cell_type": "code",
   "execution_count": null,
   "outputs": [],
   "source": [
    "df.loc[len(df)] = l\n",
    "df"
   ],
   "metadata": {
    "collapsed": false,
    "pycharm": {
     "name": "#%%\n"
    }
   }
  },
  {
   "cell_type": "code",
   "execution_count": 112,
   "outputs": [],
   "source": [
    "df = pd.DataFrame(columns=['time', 'initial_players', 'area', 'mobility_speed', 'seed', 'avg_killed_opponents', 'winner_killed_opponents'])\n",
    "\n",
    "l = [epoch * movement_speed, inital_players, area, movement_speed, seed, statistics.fmean(killed_opponents), winner_killed_opponents]"
   ],
   "metadata": {
    "collapsed": false,
    "pycharm": {
     "name": "#%%\n"
    }
   }
  },
  {
   "cell_type": "code",
   "execution_count": 113,
   "outputs": [
    {
     "data": {
      "text/plain": "   time  initial_players  area  mobility_speed  seed  avg_killed_opponents  \\\n0   9.0              4.0   7.0             1.0  53.0                  0.75   \n\n   winner_killed_opponents  \n0                      2.0  ",
      "text/html": "<div>\n<style scoped>\n    .dataframe tbody tr th:only-of-type {\n        vertical-align: middle;\n    }\n\n    .dataframe tbody tr th {\n        vertical-align: top;\n    }\n\n    .dataframe thead th {\n        text-align: right;\n    }\n</style>\n<table border=\"1\" class=\"dataframe\">\n  <thead>\n    <tr style=\"text-align: right;\">\n      <th></th>\n      <th>time</th>\n      <th>initial_players</th>\n      <th>area</th>\n      <th>mobility_speed</th>\n      <th>seed</th>\n      <th>avg_killed_opponents</th>\n      <th>winner_killed_opponents</th>\n    </tr>\n  </thead>\n  <tbody>\n    <tr>\n      <th>0</th>\n      <td>9.0</td>\n      <td>4.0</td>\n      <td>7.0</td>\n      <td>1.0</td>\n      <td>53.0</td>\n      <td>0.75</td>\n      <td>2.0</td>\n    </tr>\n  </tbody>\n</table>\n</div>"
     },
     "execution_count": 113,
     "metadata": {},
     "output_type": "execute_result"
    }
   ],
   "source": [
    "df.loc[len(df)] = l\n",
    "df"
   ],
   "metadata": {
    "collapsed": false,
    "pycharm": {
     "name": "#%%\n"
    }
   }
  }
 ],
 "metadata": {
  "kernelspec": {
   "display_name": "Python 3.10.7 64-bit",
   "language": "python",
   "name": "python3"
  },
  "language_info": {
   "codemirror_mode": {
    "name": "ipython",
    "version": 3
   },
   "file_extension": ".py",
   "mimetype": "text/x-python",
   "name": "python",
   "nbconvert_exporter": "python",
   "pygments_lexer": "ipython3",
   "version": "3.10.7"
  },
  "orig_nbformat": 4,
  "vscode": {
   "interpreter": {
    "hash": "b629c3126b5df0b3c19ac5f524890cb3a3a2e86c1a2f2c4b1c29287aa73e65d0"
   }
  }
 },
 "nbformat": 4,
 "nbformat_minor": 2
}