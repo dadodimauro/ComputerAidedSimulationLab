{
 "cells": [
  {
   "cell_type": "markdown",
   "source": [
    "input: # of words in each sentence\n",
    "outuput: if there is plagiarism or not\n",
    "tot # of words: 96858\n",
    "tot # of words (after cleaning text): 96730\n",
    "tot # of verses: 14753\n",
    "tot # of verses (after cleaning text): 14342\n",
    "tot # of DISTINCT words (after cleaning text): 13958\n",
    "\n",
    "data structures:\n",
    "an hash table to store the fingerprints for each sentence\n",
    "\n",
    "algorithm for detect plagiarism:\n",
    "compute the hash of a sentence to check\n",
    "if the hash table with the fingerprints contains the computed hash:\n",
    "    return True\n",
    "else\n",
    "    return False"
   ],
   "metadata": {
    "collapsed": false,
    "pycharm": {
     "name": "#%% md\n"
    }
   }
  },
  {
   "cell_type": "code",
   "execution_count": 125,
   "outputs": [],
   "source": [
    "import numpy as np\n",
    "import pandas as pd\n",
    "import math\n",
    "import re\n",
    "from pympler import asizeof\n",
    "import hashlib"
   ],
   "metadata": {
    "collapsed": false,
    "pycharm": {
     "name": "#%%\n"
    }
   }
  },
  {
   "cell_type": "code",
   "execution_count": 126,
   "outputs": [
    {
     "name": "stdout",
     "output_type": "stream",
     "text": [
      "96730\n",
      "14342\n",
      "13958\n"
     ]
    }
   ],
   "source": [
    "number_of_words = 0\n",
    "with open(r'divina_commedia.txt','r') as file:\n",
    "    data = file.read()\n",
    "\n",
    "data = re.sub(' +', ' ', data)\n",
    "data = re.sub('[\\n]+', '\\n', data)\n",
    "data = re.sub(r\"[^\\w\\d'\\s]+\", '', data)\n",
    "data = data.lower()\n",
    "lines = data.split(\"\\n\")\n",
    "\n",
    "for line in lines:\n",
    "    number_of_words += len(line.split())\n",
    "\n",
    "print(number_of_words)\n",
    "print(len(lines))\n",
    "print(len(set(data.split())))"
   ],
   "metadata": {
    "collapsed": false,
    "pycharm": {
     "name": "#%%\n"
    }
   }
  },
  {
   "cell_type": "code",
   "execution_count": 127,
   "outputs": [],
   "source": [
    "def create_sentences(data, n):\n",
    "    words = data.split()\n",
    "    sentences = set()\n",
    "    for i in range(len(data.split()) - n):\n",
    "        sentence = \" \".join(words[i:i+n])\n",
    "        sentences.add(sentence)\n",
    "\n",
    "    return set(sentences)"
   ],
   "metadata": {
    "collapsed": false,
    "pycharm": {
     "name": "#%%\n"
    }
   }
  },
  {
   "cell_type": "code",
   "execution_count": 128,
   "outputs": [],
   "source": [
    "def get_len_and_size(data, _print=True):\n",
    "    if _print is True:\n",
    "        print(\"len of the set:\", len(data))\n",
    "        print(\"actual size of the set:\", asizeof.asizeof(data))\n",
    "    return len(data), asizeof.asizeof(data)"
   ],
   "metadata": {
    "collapsed": false,
    "pycharm": {
     "name": "#%%\n"
    }
   }
  },
  {
   "cell_type": "code",
   "execution_count": 129,
   "outputs": [],
   "source": [
    "def get_bits_fingerprint(m, epsilon):\n",
    "    b = math.log(m/epsilon, 2)\n",
    "    return math.ceil(b)  # round up to the next integer"
   ],
   "metadata": {
    "collapsed": false,
    "pycharm": {
     "name": "#%%\n"
    }
   }
  },
  {
   "cell_type": "code",
   "execution_count": 130,
   "outputs": [],
   "source": [
    "def get_range_fingerprint(m, epsilon):\n",
    "    n = m/epsilon\n",
    "    return math.ceil(n)  # round up to the next integer"
   ],
   "metadata": {
    "collapsed": false,
    "pycharm": {
     "name": "#%%\n"
    }
   }
  },
  {
   "cell_type": "code",
   "execution_count": 131,
   "outputs": [],
   "source": [
    "def get_hash(sentence, n):\n",
    "    sentence_hash = hashlib.md5(sentence.encode('utf-8')) # md5 hash\n",
    "    sentence_hash_int = int(sentence_hash.hexdigest(), 16) # md5 hash in integer format (convert to integer just to take less value since we don't need 128 bits hash\n",
    "    h = sentence_hash_int % n # map into [0,n-1]\n",
    "    return h"
   ],
   "metadata": {
    "collapsed": false,
    "pycharm": {
     "name": "#%%\n"
    }
   }
  },
  {
   "cell_type": "code",
   "execution_count": 132,
   "outputs": [],
   "source": [
    "def store_fingerprints(data, epsilon):\n",
    "    fingerprints_set = set()\n",
    "    m = len(data)\n",
    "\n",
    "    for line in data:\n",
    "        n = get_range_fingerprint(m, epsilon)\n",
    "        h = get_hash(line, n)\n",
    "        fingerprints_set.add(h)\n",
    "\n",
    "    return fingerprints_set"
   ],
   "metadata": {
    "collapsed": false,
    "pycharm": {
     "name": "#%%\n"
    }
   }
  },
  {
   "cell_type": "code",
   "execution_count": 133,
   "outputs": [],
   "source": [
    "def stored_data(data):\n",
    "    counter = 0\n",
    "    tot_data = 0\n",
    "\n",
    "    for line in data:\n",
    "        tot_data += asizeof.asizeof(line)\n",
    "        counter += 1\n",
    "\n",
    "    return tot_data"
   ],
   "metadata": {
    "collapsed": false,
    "pycharm": {
     "name": "#%%\n"
    }
   }
  },
  {
   "cell_type": "code",
   "execution_count": 134,
   "outputs": [],
   "source": [
    "sentences4 = create_sentences(data, 4)\n",
    "sentences8 = create_sentences(data, 8)"
   ],
   "metadata": {
    "collapsed": false,
    "pycharm": {
     "name": "#%%\n"
    }
   }
  },
  {
   "cell_type": "code",
   "execution_count": 135,
   "outputs": [],
   "source": [
    "l4 = []\n",
    "l8 = []\n",
    "epsilons = []\n",
    "m4 = len(sentences4)\n",
    "m8 = len(sentences8)\n",
    "\n",
    "for epsilon in np.logspace(-10, 0, num=11):\n",
    "    b = get_bits_fingerprint(m4, epsilon)\n",
    "    l4.append(b * m4 / 8)\n",
    "    b = get_bits_fingerprint(m8, epsilon)\n",
    "    l8.append(b * m8 / 8)\n",
    "    epsilons.append(epsilon)"
   ],
   "metadata": {
    "collapsed": false,
    "pycharm": {
     "name": "#%%\n"
    }
   }
  },
  {
   "cell_type": "code",
   "execution_count": 136,
   "outputs": [
    {
     "data": {
      "text/plain": "<Figure size 720x504 with 1 Axes>",
      "image/png": "[encoded data removed]"
     },
     "metadata": {
      "needs_background": "light"
     },
     "output_type": "display_data"
    }
   ],
   "source": [
    "import matplotlib.pyplot as plt\n",
    "\n",
    "plt.figure(figsize=(10,7))\n",
    "plt.plot(epsilons, l4, marker=\"o\", label=\"4-words\")\n",
    "plt.plot(epsilons, l8, marker=\"o\", label=\"8-words\")\n",
    "\n",
    "plt.xscale(\"log\")\n",
    "plt.legend()\n",
    "plt.grid()\n",
    "plt.ylabel(\"fingerprint size (Bytes)\")\n",
    "plt.xlabel(\"ε (probability of false positives)\")\n",
    "plt.savefig(\"hash_bits.png\")\n",
    "plt.show()"
   ],
   "metadata": {
    "collapsed": false,
    "pycharm": {
     "name": "#%%\n"
    }
   }
  },
  {
   "cell_type": "code",
   "execution_count": 149,
   "outputs": [],
   "source": [
    "l4 = []\n",
    "l8 = []\n",
    "epsilons = []\n",
    "m4 = len(sentences4)\n",
    "m8 = len(sentences8)\n",
    "\n",
    "for epsilon in np.logspace(-10, 0, num=11):\n",
    "    f4 = store_fingerprints(sentences4, epsilon)\n",
    "    f8 = store_fingerprints(sentences8, epsilon)\n",
    "    l4.append(asizeof.asizeof(f4))\n",
    "    l8.append(asizeof.asizeof(f8))\n",
    "    epsilons.append(epsilon)"
   ],
   "metadata": {
    "collapsed": false,
    "pycharm": {
     "name": "#%%\n"
    }
   }
  },
  {
   "cell_type": "code",
   "execution_count": 138,
   "outputs": [
    {
     "data": {
      "text/plain": "<Figure size 720x504 with 1 Axes>",
      "image/png": "[encoded data removed]"
     },
     "metadata": {
      "needs_background": "light"
     },
     "output_type": "display_data"
    }
   ],
   "source": [
    "plt.figure(figsize=(10,7))\n",
    "\n",
    "plt.plot(epsilons, l4, marker=\"o\", label=\"4-words\")\n",
    "plt.plot(epsilons, l8, marker=\"o\", label=\"8-words\")\n",
    "plt.axhline(asizeof.asizeof(sentences4), color=\"r\", linestyle = ':', label=\"acutal size 4-words\")\n",
    "plt.axhline(asizeof.asizeof(sentences8), color=\"g\", linestyle = ':', label=\"acutal size 8-words\")\n",
    "\n",
    "plt.xscale(\"log\")\n",
    "plt.grid()\n",
    "plt.legend()\n",
    "plt.xlabel(\"ε (probability of false positives)\")\n",
    "plt.ylabel(\"actual memory occupancy\")\n",
    "plt.savefig(\"memory_occupancy.png\")\n",
    "plt.show()"
   ],
   "metadata": {
    "collapsed": false,
    "pycharm": {
     "name": "#%%\n"
    }
   }
  },
  {
   "cell_type": "code",
   "execution_count": 139,
   "outputs": [
    {
     "name": "stdout",
     "output_type": "stream",
     "text": [
      "4-words\n",
      "Total number of sentences: 96120\n",
      "Experimental amount of stored data: 7516160 B (7.16796875 MB)\n",
      "Memory occupancy of the set of sentences: 11710680 B (11.168174743652344 MB)\n"
     ]
    }
   ],
   "source": [
    "print(\"4-words\")\n",
    "print(f\"Total number of sentences: {len(sentences4)}\")\n",
    "print(f\"Experimental amount of stored data: {stored_data(sentences4)} B ({stored_data(sentences4) / 2**20} MB)\")\n",
    "print(f\"Memory occupancy of the set of sentences: {asizeof.asizeof(sentences4)} B ({asizeof.asizeof(sentences4) / 2**20} MB)\")"
   ],
   "metadata": {
    "collapsed": false,
    "pycharm": {
     "name": "#%%\n"
    }
   }
  },
  {
   "cell_type": "code",
   "execution_count": 140,
   "outputs": [
    {
     "name": "stdout",
     "output_type": "stream",
     "text": [
      "8-words\n",
      "Total number of sentences: 96715\n",
      "Experimental amount of stored data: 10001896 B (9.538551330566406 MB)\n",
      "Memory occupancy of the set of sentences: 14196416 B (13.53875732421875 MB)\n"
     ]
    }
   ],
   "source": [
    "print(\"8-words\")\n",
    "print(f\"Total number of sentences: {len(sentences8)}\")\n",
    "print(f\"Experimental amount of stored data: {stored_data(sentences8)} B ({stored_data(sentences8) / 2**20} MB)\")\n",
    "print(f\"Memory occupancy of the set of sentences: {asizeof.asizeof(sentences8)} B ({asizeof.asizeof(sentences8) / 2**20} MB)\")"
   ],
   "metadata": {
    "collapsed": false,
    "pycharm": {
     "name": "#%%\n"
    }
   }
  },
  {
   "cell_type": "code",
   "execution_count": 141,
   "outputs": [
    {
     "name": "stdout",
     "output_type": "stream",
     "text": [
      "Experimental amount of stored data (independently from the data structure):\n",
      "\t516864 B \n",
      "\t0.492919921875 MB\n"
     ]
    }
   ],
   "source": [
    "print(\"Experimental amount of stored data (independently from the data structure):\")\n",
    "print(f\"\\t{asizeof.asizeof(data)} B \\n\\t{asizeof.asizeof(data) / 2**20} MB\" , )"
   ],
   "metadata": {
    "collapsed": false,
    "pycharm": {
     "name": "#%%\n"
    }
   }
  }
 ],
 "metadata": {
  "kernelspec": {
   "display_name": "Python 3",
   "language": "python",
   "name": "python3"
  },
  "language_info": {
   "codemirror_mode": {
    "name": "ipython",
    "version": 2
   },
   "file_extension": ".py",
   "mimetype": "text/x-python",
   "name": "python",
   "nbconvert_exporter": "python",
   "pygments_lexer": "ipython2",
   "version": "2.7.6"
  }
 },
 "nbformat": 4,
 "nbformat_minor": 0
}