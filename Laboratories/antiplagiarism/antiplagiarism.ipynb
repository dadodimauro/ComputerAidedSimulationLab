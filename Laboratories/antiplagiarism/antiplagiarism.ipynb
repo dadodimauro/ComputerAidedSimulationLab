{
 "cells": [
  {
   "cell_type": "markdown",
   "source": [
    "input: # of words in each sentence\n",
    "outuput: if there is plagiarism or not\n",
    "tot # of words: 96858\n",
    "tot # of words (after cleaning text): 96730\n",
    "tot # of verses: 14753\n",
    "tot # of verses (after cleaning text): 14342\n",
    "tot # of DISTINCT words (after cleaning text): 13958\n",
    "\n",
    "data structures:\n",
    "an hash table to store the fingerprints for each sentence\n",
    "\n",
    "algorithm for detect plagiarism:\n",
    "compute the hash of a sentence to check\n",
    "if the hash table with the fingerprints contains the computed hash:\n",
    "    return True\n",
    "else\n",
    "    return False"
   ],
   "metadata": {
    "collapsed": false,
    "pycharm": {
     "name": "#%% md\n"
    }
   }
  },
  {
   "cell_type": "code",
   "execution_count": 35,
   "metadata": {
    "collapsed": true,
    "pycharm": {
     "name": "#%%\n"
    }
   },
   "outputs": [],
   "source": [
    "import numpy as np\n",
    "import pandas as pd\n",
    "import re"
   ]
  },
  {
   "cell_type": "code",
   "execution_count": 74,
   "outputs": [
    {
     "name": "stdout",
     "output_type": "stream",
     "text": [
      "96730\n",
      "14342\n",
      "13958\n"
     ]
    }
   ],
   "source": [
    "number_of_words = 0\n",
    "with open(r'divina_commedia.txt','r') as file:\n",
    "    data = file.read()\n",
    "\n",
    "data = re.sub(' +', ' ', data)\n",
    "data = re.sub('[\\n]+', '\\n', data)\n",
    "data = re.sub(r\"[^\\w\\d'\\s]+\", '', data)\n",
    "data = data.lower()\n",
    "lines = data.split(\"\\n\")\n",
    "\n",
    "for line in lines:\n",
    "    number_of_words += len(line.split())\n",
    "\n",
    "print(number_of_words)\n",
    "print(len(lines))\n",
    "print(len(set(data.split())))"
   ],
   "metadata": {
    "collapsed": false,
    "pycharm": {
     "name": "#%%\n"
    }
   }
  },
  {
   "cell_type": "code",
   "execution_count": 82,
   "outputs": [],
   "source": [
    "def create_sentences(data, n):\n",
    "    words = data.split()\n",
    "    sentences = []\n",
    "    for i in range(len(data.split()) - n):\n",
    "        sentence = \" \".join(words[i:i+n])\n",
    "        sentences.append(sentence)\n",
    "\n",
    "    return set(sentences)"
   ],
   "metadata": {
    "collapsed": false,
    "pycharm": {
     "name": "#%%\n"
    }
   }
  },
  {
   "cell_type": "code",
   "execution_count": 83,
   "outputs": [],
   "source": [
    "sentences = create_sentences(data, 4)"
   ],
   "metadata": {
    "collapsed": false,
    "pycharm": {
     "name": "#%%\n"
    }
   }
  },
  {
   "cell_type": "code",
   "execution_count": 84,
   "outputs": [
    {
     "data": {
      "text/plain": "96120"
     },
     "execution_count": 84,
     "metadata": {},
     "output_type": "execute_result"
    }
   ],
   "source": [
    "len(sentences)"
   ],
   "metadata": {
    "collapsed": false,
    "pycharm": {
     "name": "#%%\n"
    }
   }
  }
 ],
 "metadata": {
  "kernelspec": {
   "display_name": "Python 3",
   "language": "python",
   "name": "python3"
  },
  "language_info": {
   "codemirror_mode": {
    "name": "ipython",
    "version": 2
   },
   "file_extension": ".py",
   "mimetype": "text/x-python",
   "name": "python",
   "nbconvert_exporter": "python",
   "pygments_lexer": "ipython2",
   "version": "2.7.6"
  }
 },
 "nbformat": 4,
 "nbformat_minor": 0
}